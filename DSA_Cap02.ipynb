{
  "nbformat": 4,
  "nbformat_minor": 0,
  "metadata": {
    "colab": {
      "name": "DSA_Cap02.ipynb",
      "provenance": [],
      "collapsed_sections": [],
      "authorship_tag": "ABX9TyPYPyybar2dE6RmJyV1MsUD",
      "include_colab_link": true
    },
    "kernelspec": {
      "name": "python3",
      "display_name": "Python 3"
    },
    "language_info": {
      "name": "python"
    }
  },
  "cells": [
    {
      "cell_type": "markdown",
      "metadata": {
        "id": "view-in-github",
        "colab_type": "text"
      },
      "source": [
        "<a href=\"https://colab.research.google.com/github/JardelSilva-86/FundamentosPython_DSA/blob/main/DSA_Cap02.ipynb\" target=\"_parent\"><img src=\"https://colab.research.google.com/assets/colab-badge.svg\" alt=\"Open In Colab\"/></a>"
      ]
    },
    {
      "cell_type": "markdown",
      "source": [
        "## Exercícios\n"
      ],
      "metadata": {
        "id": "EuCUYiczJOvc"
      }
    },
    {
      "cell_type": "code",
      "source": [
        "# Exercício 1 - Imprima na tela os números de 1 a 10. Use uma lista para armazenar os números.\n",
        "lista = [1,2,3,4,5,6,7,8,9,10]\n",
        "print(lista)"
      ],
      "metadata": {
        "id": "ru8ThwMmJ0Sm",
        "colab": {
          "base_uri": "https://localhost:8080/"
        },
        "outputId": "2db3a4df-cac1-401b-dead-f455297e63c2"
      },
      "execution_count": null,
      "outputs": [
        {
          "output_type": "stream",
          "name": "stdout",
          "text": [
            "[1, 2, 3, 4, 5, 6, 7, 8, 9, 10]\n"
          ]
        }
      ]
    },
    {
      "cell_type": "code",
      "source": [
        "# Exercício 2 - Crie uma lista de 5 objetos e imprima na tela\n",
        "lista1 = ['Sorvete', 'Chocolate', 'Maracujá', 'Carne', 'Sabão em pó']\n",
        "print(lista1)"
      ],
      "metadata": {
        "colab": {
          "base_uri": "https://localhost:8080/"
        },
        "id": "7jxOtl2WvsiA",
        "outputId": "dcbab240-fc37-458a-aadb-2fcc3a71d033"
      },
      "execution_count": null,
      "outputs": [
        {
          "output_type": "stream",
          "name": "stdout",
          "text": [
            "['Sorvete', 'Chocolate', 'Maracujá', 'Carne', 'Sabão em pó']\n"
          ]
        }
      ]
    },
    {
      "cell_type": "code",
      "source": [
        "# Exercício 3 - Crie duas strings e concatene as duas em uma terceira string\n",
        "str1 = 'Silvia'\n",
        "str2 = 'eu te amo!!!!'\n",
        "str3 = str1 + ' ' + str2\n",
        "print(str3)"
      ],
      "metadata": {
        "colab": {
          "base_uri": "https://localhost:8080/"
        },
        "id": "AMRpC3dwvwlH",
        "outputId": "ebba7437-1a35-4749-d3d7-279d552d521a"
      },
      "execution_count": null,
      "outputs": [
        {
          "output_type": "stream",
          "name": "stdout",
          "text": [
            "Silvia eu te amo!!!!\n"
          ]
        }
      ]
    },
    {
      "cell_type": "code",
      "source": [
        "# Exercício 4 - Crie uma tupla com os seguintes elementos: 1, 2, 2, 3, 4, 4, 4, 5 e depois utilize a função count do \n",
        "# objeto tupla para verificar quantas vezes o número 4 aparece na tupla\n",
        "tupla = (1, 2, 2, 3, 4, 4, 4, 5)\n",
        "print(tupla.count(4))"
      ],
      "metadata": {
        "id": "tvNEv3pZvyRq",
        "colab": {
          "base_uri": "https://localhost:8080/"
        },
        "outputId": "4f9bc207-7257-4884-a6af-5a2ee39bd2bd"
      },
      "execution_count": null,
      "outputs": [
        {
          "output_type": "stream",
          "name": "stdout",
          "text": [
            "3\n"
          ]
        }
      ]
    },
    {
      "cell_type": "code",
      "source": [
        "# Exercício 5 - Crie um dicionário vazio e imprima na tela\n",
        "dict = {}\n",
        "print(dict)"
      ],
      "metadata": {
        "id": "62gLpQ9lvznH",
        "colab": {
          "base_uri": "https://localhost:8080/"
        },
        "outputId": "562ce3c8-cdd3-4c0e-ad89-21472c5b16a0"
      },
      "execution_count": null,
      "outputs": [
        {
          "output_type": "stream",
          "name": "stdout",
          "text": [
            "{}\n"
          ]
        }
      ]
    },
    {
      "cell_type": "code",
      "source": [
        "# Exercício 6 - Crie um dicionário com 3 chaves e 3 valores e imprima na tela\n",
        "dict = {\"Nome\":\"Jardel\", \"Idade\":35, \"Sexo\":\"M\"}\n",
        "print(dict)"
      ],
      "metadata": {
        "id": "5WlYWNolvzVF",
        "colab": {
          "base_uri": "https://localhost:8080/"
        },
        "outputId": "57920524-0a0d-4753-b7b7-5d0f070ded67"
      },
      "execution_count": null,
      "outputs": [
        {
          "output_type": "stream",
          "name": "stdout",
          "text": [
            "{'Nome': 'Jardel', 'Idade': 35, 'Sexo': 'M'}\n"
          ]
        }
      ]
    },
    {
      "cell_type": "code",
      "source": [
        "# Exercício 7 - Adicione mais um elemento ao dicionário criado no exercício anterior e imprima na tela\n",
        "dict[\"Anime\"] = \"Naruto\"\n",
        "print(dict)"
      ],
      "metadata": {
        "id": "yE8igYnivzLH",
        "colab": {
          "base_uri": "https://localhost:8080/"
        },
        "outputId": "52c950c0-425a-432b-870b-101996a7acbd"
      },
      "execution_count": null,
      "outputs": [
        {
          "output_type": "stream",
          "name": "stdout",
          "text": [
            "{'Nome': 'Jardel', 'Idade': 35, 'Sexo': 'M', 'Anime': 'Naruto'}\n"
          ]
        }
      ]
    },
    {
      "cell_type": "code",
      "source": [
        "# Fixando Exrecício 7 - \n",
        "dict[\"Filme\"] = \"Spider Man\"\n",
        "print(dict)"
      ],
      "metadata": {
        "colab": {
          "base_uri": "https://localhost:8080/"
        },
        "id": "xiooNnQ4D1tY",
        "outputId": "2b4d1a76-882b-4eab-ce17-5ba12c00407a"
      },
      "execution_count": null,
      "outputs": [
        {
          "output_type": "stream",
          "name": "stdout",
          "text": [
            "{'Nome': 'Jardel', 'Idade': 35, 'Sexo': 'M', 'Anime': 'Naruto', 'Filme': 'Spider Man'}\n"
          ]
        }
      ]
    },
    {
      "cell_type": "code",
      "source": [
        "# Exercício 8 - Crie um dicionário com 3 chaves e 3 valores. Um dos valores deve ser uma lista de 2 elementos numéricos. \n",
        "# Imprima o dicionário na tela.\n",
        "dict1 = {\"Rua\": \"José de Souza\", \"Nº\": 228, \"Telefone\": [4458, 3509]}\n",
        "print(dict1)"
      ],
      "metadata": {
        "id": "Nvhl5Md6vzeD",
        "colab": {
          "base_uri": "https://localhost:8080/"
        },
        "outputId": "298d4dd3-7d08-4474-fdb7-9b3fb167e039"
      },
      "execution_count": null,
      "outputs": [
        {
          "output_type": "stream",
          "name": "stdout",
          "text": [
            "{'Rua': 'José de Souza', 'Nº': 228, 'Telefone': [4458, 3509]}\n"
          ]
        }
      ]
    },
    {
      "cell_type": "code",
      "source": [
        "# Exercício 9 - Crie uma lista de 4 elementos. O primeiro elemento deve ser uma string, \n",
        "# o segundo uma tupla de 2 elementos, o terceiro um dicionário com 2 chaves e 2 valores e \n",
        "# o quarto elemento um valor do tipo float.\n",
        "# Imprima a lista na tela.\n",
        "shopping_list = [\"Jogo\", (\"Fifa 2022\", \"The last of Us\"), {\"Expansão\": \"Lendas\", \"Controles\": 2}, 1456,00]\n",
        "print(shopping_list)"
      ],
      "metadata": {
        "id": "JZGGDdfuvzCZ",
        "colab": {
          "base_uri": "https://localhost:8080/"
        },
        "outputId": "03dfa2dc-8764-40ab-cb92-984261b15e6c"
      },
      "execution_count": null,
      "outputs": [
        {
          "output_type": "stream",
          "name": "stdout",
          "text": [
            "['Jogo', ('Fifa 2022', 'The last of Us'), {'Expansão': 'Lendas', 'Controles': 2}, 1456, 0]\n"
          ]
        }
      ]
    },
    {
      "cell_type": "code",
      "source": [
        "# Exercício 10 - Considere a string abaixo. Imprima na tela apenas os caracteres da posição 1 a 18.\n",
        "frase = 'Cientista de Dados é o profissional mais sexy do século XXI'\n",
        "print(frase[0:19])"
      ],
      "metadata": {
        "id": "brQQXJz9vy2x",
        "colab": {
          "base_uri": "https://localhost:8080/"
        },
        "outputId": "bc64c64f-b3ce-4cee-ff37-b659100d1378"
      },
      "execution_count": null,
      "outputs": [
        {
          "output_type": "stream",
          "name": "stdout",
          "text": [
            "Cientista de Dados \n"
          ]
        }
      ]
    }
  ]
}