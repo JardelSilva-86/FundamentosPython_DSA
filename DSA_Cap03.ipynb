{
  "nbformat": 4,
  "nbformat_minor": 0,
  "metadata": {
    "colab": {
      "name": "DSA_Cap03.ipynb",
      "provenance": [],
      "collapsed_sections": [
        "oFXJxL7x8fOI",
        "boGugft6CIMX",
        "UX5dHyfwLqwS"
      ],
      "toc_visible": true,
      "authorship_tag": "ABX9TyM5ghb9Hflv1GPeMehRdkdS",
      "include_colab_link": true
    },
    "kernelspec": {
      "name": "python3",
      "display_name": "Python 3"
    },
    "language_info": {
      "name": "python"
    }
  },
  "cells": [
    {
      "cell_type": "markdown",
      "metadata": {
        "id": "view-in-github",
        "colab_type": "text"
      },
      "source": [
        "<a href=\"https://colab.research.google.com/github/JardelSilva-86/FundamentosPython_DSA/blob/main/DSA_Cap03.ipynb\" target=\"_parent\"><img src=\"https://colab.research.google.com/assets/colab-badge.svg\" alt=\"Open In Colab\"/></a>"
      ]
    },
    {
      "cell_type": "markdown",
      "source": [
        "# Loop For\n"
      ],
      "metadata": {
        "id": "JfvsM_rS8UGD"
      }
    },
    {
      "cell_type": "code",
      "execution_count": null,
      "metadata": {
        "colab": {
          "base_uri": "https://localhost:8080/"
        },
        "id": "cNLiW6AJKh63",
        "outputId": "e2671126-fc95-499d-9d8b-6d5d20676887"
      },
      "outputs": [
        {
          "output_type": "stream",
          "name": "stdout",
          "text": [
            "2\n",
            "3\n",
            "4\n"
          ]
        }
      ],
      "source": [
        "# Loop For\n",
        "tp = (2, 3, 4)\n",
        "for i in tp:\n",
        "  print(i)"
      ]
    },
    {
      "cell_type": "code",
      "source": [
        "# Criando uma lista e imprimindo cada um dos valores\n",
        "listaDeMercado = [\"Leite\", \"Frutas\", \"Carne\"]\n",
        "for i in listaDeMercado:\n",
        "  print(i)"
      ],
      "metadata": {
        "colab": {
          "base_uri": "https://localhost:8080/"
        },
        "id": "nxt843xaLF6e",
        "outputId": "0150eda5-957c-4ac5-e823-98395498a7a9"
      },
      "execution_count": null,
      "outputs": [
        {
          "output_type": "stream",
          "name": "stdout",
          "text": [
            "Leite\n",
            "Frutas\n",
            "Carne\n"
          ]
        }
      ]
    },
    {
      "cell_type": "code",
      "source": [
        "# Imprimindo valores no intervalo de 0 a 5 (exclusive)\n",
        "for contador in range(0,5):\n",
        "  print(contador)"
      ],
      "metadata": {
        "colab": {
          "base_uri": "https://localhost:8080/"
        },
        "id": "C1m0SM4DLKuJ",
        "outputId": "d6e2d0c1-a0d9-44c0-9599-bd929b388ce5"
      },
      "execution_count": null,
      "outputs": [
        {
          "output_type": "stream",
          "name": "stdout",
          "text": [
            "0\n",
            "1\n",
            "2\n",
            "3\n",
            "4\n"
          ]
        }
      ]
    },
    {
      "cell_type": "code",
      "source": [
        "# Imprimindo na tela os Nº pares da lista de Nº\n",
        "lista = [1,2,3,4,5,6,7,8,9,10]\n",
        "for num in lista:\n",
        "  if num % 2 == 0:\n",
        "    print(num)"
      ],
      "metadata": {
        "colab": {
          "base_uri": "https://localhost:8080/"
        },
        "id": "nvIPK2d-MZMI",
        "outputId": "523399bd-b627-40ab-f51d-56ff6dc245f8"
      },
      "execution_count": null,
      "outputs": [
        {
          "output_type": "stream",
          "name": "stdout",
          "text": [
            "2\n",
            "4\n",
            "6\n",
            "8\n",
            "10\n"
          ]
        }
      ]
    },
    {
      "cell_type": "code",
      "source": [
        "# Listando os Nº no intervalo entre 0 e 101, de 12 em 12\n",
        "for i in range(0,101,12):\n",
        "  print(i)"
      ],
      "metadata": {
        "colab": {
          "base_uri": "https://localhost:8080/"
        },
        "id": "Vua1ziFZNAl3",
        "outputId": "7890d971-90de-4c80-f7db-7a7e355e05da"
      },
      "execution_count": null,
      "outputs": [
        {
          "output_type": "stream",
          "name": "stdout",
          "text": [
            "0\n",
            "12\n",
            "24\n",
            "36\n",
            "48\n",
            "60\n",
            "72\n",
            "84\n",
            "96\n"
          ]
        }
      ]
    },
    {
      "cell_type": "code",
      "source": [
        "# Strings também são sequências\n",
        "for caracteres in \"Python é uma linguagem de programção divertida\":\n",
        "  print(caracteres)"
      ],
      "metadata": {
        "id": "37WHJSDDNdU2"
      },
      "execution_count": null,
      "outputs": []
    },
    {
      "cell_type": "code",
      "source": [
        "# Loops Aninhados\n",
        "for i in range(0,5):\n",
        "  for j in range (0,5):\n",
        "    print(j)"
      ],
      "metadata": {
        "id": "qsgjcBGLOl6T"
      },
      "execution_count": null,
      "outputs": []
    },
    {
      "cell_type": "code",
      "source": [
        "# Operando os valores de uma lista com loop for\n",
        "ListaB = [32,53,85,10,15,17,19]\n",
        "#soma = 0\n",
        "\n",
        "for i in ListaB:\n",
        "  i *= i * 2\n",
        "  #double_i = i * 2\n",
        "  #soma += double_i\n",
        "\n",
        "print(i)"
      ],
      "metadata": {
        "id": "kdfl4CnTO3x2",
        "colab": {
          "base_uri": "https://localhost:8080/"
        },
        "outputId": "d69b697e-136b-4801-b8e6-7b1b454ce902"
      },
      "execution_count": null,
      "outputs": [
        {
          "output_type": "stream",
          "name": "stdout",
          "text": [
            "722\n"
          ]
        }
      ]
    },
    {
      "cell_type": "code",
      "source": [
        "# Loops em lista de listas\n",
        "listas = [[1,2,3], [10,15,14], [10.1,8.7,2.3]]\n",
        "for valor in listas:\n",
        "  print(valor)"
      ],
      "metadata": {
        "id": "Kyt-OzofPQb8"
      },
      "execution_count": null,
      "outputs": []
    },
    {
      "cell_type": "code",
      "source": [
        "# Contando os itens de uma lista\n",
        "lista = [5,6,10,13,17]\n",
        "count = 0 \n",
        "for i in lista:\n",
        "  count += 1 \n",
        "\n",
        "print(count)"
      ],
      "metadata": {
        "colab": {
          "base_uri": "https://localhost:8080/"
        },
        "id": "l-DBVRC3Qk8X",
        "outputId": "d33ee7f9-26af-4d49-c76a-314cbd91eac3"
      },
      "execution_count": null,
      "outputs": [
        {
          "output_type": "stream",
          "name": "stdout",
          "text": [
            "5\n"
          ]
        }
      ]
    },
    {
      "cell_type": "code",
      "source": [
        "# Contando o Nº de colunas\n",
        "lst = [[1,2,3],[4,5,6],[7,8,9]]\n",
        "primeira_linha = lst[0]\n",
        "count = 0\n",
        "for column in primeira_linha:\n",
        "  count = count + 1\n",
        "\n",
        "print(count)"
      ],
      "metadata": {
        "colab": {
          "base_uri": "https://localhost:8080/"
        },
        "id": "3_GIDH5uS-rH",
        "outputId": "04fca2ec-6f92-432c-e08d-551d5ac8cbd7"
      },
      "execution_count": null,
      "outputs": [
        {
          "output_type": "stream",
          "name": "stdout",
          "text": [
            "3\n"
          ]
        }
      ]
    },
    {
      "cell_type": "code",
      "source": [
        "# Pesquisando em listas\n",
        "listaC = [5,6,7,10,50]\n",
        "\n",
        "# loop através de lista\n",
        "for item in listaC:\n",
        "  if item == 2:\n",
        "    print(\"Nº encontrado na lista\")\n",
        "  else:\n",
        "    print(\"Nº não encontrado\")"
      ],
      "metadata": {
        "colab": {
          "base_uri": "https://localhost:8080/"
        },
        "id": "a2wCXso2UTwk",
        "outputId": "647ba474-21ac-4c8a-fd50-47b76206eaed"
      },
      "execution_count": null,
      "outputs": [
        {
          "output_type": "stream",
          "name": "stdout",
          "text": [
            "Nº não encontrado\n",
            "Nº não encontrado\n",
            "Nº não encontrado\n",
            "Nº não encontrado\n",
            "Nº não encontrado\n"
          ]
        }
      ]
    },
    {
      "cell_type": "code",
      "source": [
        "# Listando as chaves de um dicionário\n",
        "dict = {\"k1\": \"Python\", \"k2\": \"R\", \"k3\":\"Scala\"}\n",
        "for value in dict:\n",
        "  print(value)"
      ],
      "metadata": {
        "colab": {
          "base_uri": "https://localhost:8080/"
        },
        "id": "rFfl4S5UrWBw",
        "outputId": "6aecb1cf-6217-4184-99fd-f158eda0661a"
      },
      "execution_count": null,
      "outputs": [
        {
          "output_type": "stream",
          "name": "stdout",
          "text": [
            "k1\n",
            "k2\n",
            "k3\n"
          ]
        }
      ]
    },
    {
      "cell_type": "code",
      "source": [
        "# Imprimindo chave e valor do dicionário. Usando o método items() para retornar o sitens de um dicionário\n",
        "for k, v in dict.items():\n",
        "  print(k, v)"
      ],
      "metadata": {
        "colab": {
          "base_uri": "https://localhost:8080/"
        },
        "id": "jT3MsHAWr6vp",
        "outputId": "51741bc2-6130-4946-aedf-d047de4ce4d2"
      },
      "execution_count": null,
      "outputs": [
        {
          "output_type": "stream",
          "name": "stdout",
          "text": [
            "k1 Python\n",
            "k2 R\n",
            "k3 Scala\n"
          ]
        }
      ]
    },
    {
      "cell_type": "markdown",
      "source": [
        "# Loop While"
      ],
      "metadata": {
        "id": "oFXJxL7x8fOI"
      }
    },
    {
      "cell_type": "code",
      "source": [
        "# Usando o loop while para imprimir os valores de 0 a 9\n",
        "counter = 1\n",
        "while counter < 10:\n",
        "  print(counter)\n",
        "  counter += 1"
      ],
      "metadata": {
        "id": "N-hk44B38iSD"
      },
      "execution_count": null,
      "outputs": []
    },
    {
      "cell_type": "code",
      "source": [
        "# Tmabém é possível usar a claúsula else para encerrar o loop while\n",
        "x = 0\n",
        "\n",
        "while x < 10:\n",
        "  print(\"O valor de x nesta iteração é:{} \".format(x))\n",
        "  print(\"x ainda é menor que 10, somando 1 a x\")\n",
        "  print(\"-=\" * 8)\n",
        "  x += 1 \n",
        "\n",
        "else:\n",
        "  print(\"Loop concluído!\")\n"
      ],
      "metadata": {
        "id": "Flt3fXC585RV"
      },
      "execution_count": null,
      "outputs": []
    },
    {
      "cell_type": "markdown",
      "source": [
        "# Pass, Braek e Continue"
      ],
      "metadata": {
        "id": "sDlGXGNK-7uy"
      }
    },
    {
      "cell_type": "code",
      "source": [
        "counter = 0\n",
        "while counter < 100:\n",
        "  if counter == 10:\n",
        "    break # freia a iteração do código\n",
        "  else:\n",
        "    pass # continua a iteração do código\n",
        "  print(counter)\n",
        "  counter += 1"
      ],
      "metadata": {
        "colab": {
          "base_uri": "https://localhost:8080/"
        },
        "id": "Jh2QXpht-nIg",
        "outputId": "2157b0e6-ff4b-4011-9e72-7c665f1a9e5e"
      },
      "execution_count": null,
      "outputs": [
        {
          "output_type": "stream",
          "name": "stdout",
          "text": [
            "0\n",
            "1\n",
            "2\n",
            "3\n",
            "4\n",
            "5\n",
            "6\n",
            "7\n",
            "8\n",
            "9\n"
          ]
        }
      ]
    },
    {
      "cell_type": "code",
      "source": [
        "for verificador in \"Python\":\n",
        "  if verificador == \"h\":\n",
        "    continue # Pula uma iteração \n",
        "  print(verificador)"
      ],
      "metadata": {
        "colab": {
          "base_uri": "https://localhost:8080/"
        },
        "id": "ZtMESvMJ_XsO",
        "outputId": "a6264007-dbcc-4c42-e7c9-5cda38636c51"
      },
      "execution_count": null,
      "outputs": [
        {
          "output_type": "stream",
          "name": "stdout",
          "text": [
            "P\n",
            "y\n",
            "t\n",
            "o\n",
            "n\n"
          ]
        }
      ]
    },
    {
      "cell_type": "markdown",
      "source": [
        "# While e For juntos"
      ],
      "metadata": {
        "id": "boGugft6CIMX"
      }
    },
    {
      "cell_type": "code",
      "source": [
        "for i in range(2,30):\n",
        "  j = 2\n",
        "  counter = 0\n",
        "  while j < i:\n",
        "    if i % j == 0:\n",
        "      counter = 1\n",
        "      j += 1\n",
        "    else:\n",
        "      j += 1\n",
        "\n",
        "  if counter == 0:\n",
        "    print(str(i) + \" é um número primo.\")\n",
        "    counter = 0 \n",
        "  else:\n",
        "    counter = 0"
      ],
      "metadata": {
        "id": "ihbOujkyB5OG"
      },
      "execution_count": null,
      "outputs": []
    },
    {
      "cell_type": "markdown",
      "source": [
        "# Range"
      ],
      "metadata": {
        "id": "UX5dHyfwLqwS"
      }
    },
    {
      "cell_type": "code",
      "source": [
        "# Imprimindo números pares entre 50 a 101\n",
        "for i in range(50, 101, 2):\n",
        "  print(i)"
      ],
      "metadata": {
        "id": "m0UbJlPZLtUO"
      },
      "execution_count": null,
      "outputs": []
    },
    {
      "cell_type": "code",
      "source": [
        "for i in range(0, -20, -2):\n",
        "  print(i)"
      ],
      "metadata": {
        "id": "iEUkG_y5MDRA"
      },
      "execution_count": null,
      "outputs": []
    },
    {
      "cell_type": "code",
      "source": [
        "lista = ['Morango', 'Banana', 'Abacaxi', 'Uva']\n",
        "lista_tamanho = len(lista)\n",
        "for i in range(0, lista_tamanho):\n",
        "  print(lista[i])"
      ],
      "metadata": {
        "colab": {
          "base_uri": "https://localhost:8080/"
        },
        "id": "XqlHt4pdMUpj",
        "outputId": "dec257c9-c063-431c-c27c-4751dbc84e07"
      },
      "execution_count": null,
      "outputs": [
        {
          "output_type": "stream",
          "name": "stdout",
          "text": [
            "Morango\n",
            "Banana\n",
            "Abacaxi\n",
            "Uva\n"
          ]
        }
      ]
    },
    {
      "cell_type": "code",
      "source": [
        "# Tudo em Python é um objeto\n",
        "type(range(0,3))"
      ],
      "metadata": {
        "colab": {
          "base_uri": "https://localhost:8080/"
        },
        "id": "4TmvCOIbOQ2q",
        "outputId": "ec325b36-cf6f-49fe-e6fe-5c8410dac833"
      },
      "execution_count": null,
      "outputs": [
        {
          "output_type": "execute_result",
          "data": {
            "text/plain": [
              "range"
            ]
          },
          "metadata": {},
          "execution_count": 23
        }
      ]
    },
    {
      "cell_type": "markdown",
      "source": [
        "# Exercícios "
      ],
      "metadata": {
        "id": "ipDaHCxlQcFi"
      }
    },
    {
      "cell_type": "code",
      "source": [
        "# Exercício 1 - Crie uma estrutura que pergunte ao usuário qual o dia da semana. Se o dia for igual a Domingo ou \n",
        "# igual a sábado, imprima na tela \"Hoje é dia de descanso\", caso contrário imprima na tela \"Você precisa trabalhar!\"\n",
        "\n",
        "print(\"\"\"[1]Domingo [2]Segunda [3]Terça [4]Quarta [5]Quinta [6]Sexta [7]Sábado \"\"\")\n",
        "dia = int(input(\"Escolha o dia da semana: \"))\n",
        "if dia == 1 or dia == 7:\n",
        "  print(\"Hoje é dia de descanso!\")\n",
        "else:\n",
        "  print(\"Você precisa trabalhar!\")"
      ],
      "metadata": {
        "colab": {
          "base_uri": "https://localhost:8080/"
        },
        "id": "CdEyO2BWQO3F",
        "outputId": "db33cc77-79cf-4f2a-e14b-22528506d0eb"
      },
      "execution_count": null,
      "outputs": [
        {
          "output_type": "stream",
          "name": "stdout",
          "text": [
            "[1]Domingo [2]Segunda [3]Terça [4]Quarta [5]Quinta [6]Sexta [7]Sábado \n",
            "Escolha o dia da semana: 7\n",
            "Hoje é dia de descanso!\n"
          ]
        }
      ]
    },
    {
      "cell_type": "code",
      "source": [
        "# Exercício 2 - Crie uma lista de 5 frutas e verifique se a fruta 'Morango' faz parte da lista\n",
        "lista = [\"Morango\", \"Abacaxi\", \"Figo\", \"Abacate\", \"Melão\"]\n",
        "for i in lista:\n",
        "  if i == \"Morango\":\n",
        "    print(\"Tem Morango nessa lista!\") "
      ],
      "metadata": {
        "colab": {
          "base_uri": "https://localhost:8080/"
        },
        "id": "a638fuSlRIEU",
        "outputId": "9fd5ec91-211b-422e-8ffd-e98c6ca2dbbf"
      },
      "execution_count": null,
      "outputs": [
        {
          "output_type": "stream",
          "name": "stdout",
          "text": [
            "Tem Morango nessa lista!\n"
          ]
        }
      ]
    },
    {
      "cell_type": "code",
      "source": [
        "# Exercício 3 - Crie uma tupla de 4 elementos, multiplique cada elemento da tupla por 2 e guarde os resultados em uma \n",
        "# lista\n",
        "tupla = (35, 45, 75, 50)\n",
        "lista = list(tupla)\n",
        "for i in lista:\n",
        "  i = i * 2\n",
        "print(lista)\n"
      ],
      "metadata": {
        "colab": {
          "base_uri": "https://localhost:8080/"
        },
        "id": "l_QPesnPRH8g",
        "outputId": "f14d03b8-139b-4a5c-de31-5e21b7f4f4a7"
      },
      "execution_count": null,
      "outputs": [
        {
          "output_type": "stream",
          "name": "stdout",
          "text": [
            "[35, 45, 75, 50]\n"
          ]
        }
      ]
    },
    {
      "cell_type": "code",
      "source": [
        "# Exercício 4 - Crie uma sequência de números pares entre 100 e 150 e imprima na tela\n",
        "for i in range(100, 151, 2):\n",
        "  print(i)"
      ],
      "metadata": {
        "id": "ieHigGcvRH06"
      },
      "execution_count": null,
      "outputs": []
    },
    {
      "cell_type": "code",
      "source": [
        "# Exercício 5 - Crie uma variável chamada temperatura e atribua o valor 40. Enquanto temperatura for maior que 35, \n",
        "# imprima as temperaturas na tela\n",
        "temp = 40\n",
        "while temp > 35:\n",
        "  print(temp)\n",
        "  temp -= 1"
      ],
      "metadata": {
        "id": "8dZOrOdbRHtQ"
      },
      "execution_count": null,
      "outputs": []
    },
    {
      "cell_type": "code",
      "source": [
        "# Exercício 6 - Crie uma variável chamada contador = 0. Enquanto counter for menor que 100, imprima os valores na tela,\n",
        "# mas quando for encontrado o valor 23, interrompa a execução do programa\n",
        "contador = 0\n",
        "while contador < 100:\n",
        "  if contador == 24:\n",
        "    break\n",
        "  else:\n",
        "    pass\n",
        "  print(contador)\n",
        "  contador += 2"
      ],
      "metadata": {
        "id": "YXRzzy6ORHlk",
        "colab": {
          "base_uri": "https://localhost:8080/"
        },
        "outputId": "e380da7b-2ace-400a-b96f-263d5503da77"
      },
      "execution_count": null,
      "outputs": [
        {
          "output_type": "stream",
          "name": "stdout",
          "text": [
            "0\n",
            "2\n",
            "4\n",
            "6\n",
            "8\n",
            "10\n",
            "12\n",
            "14\n",
            "16\n",
            "18\n",
            "20\n",
            "22\n"
          ]
        }
      ]
    },
    {
      "cell_type": "code",
      "source": [
        "# Exercício 7 - Crie uma lista vazia e uma variável com valor 4. Enquanto o valor da variável for menor ou igual a 20, \n",
        "# adicione à lista, apenas os valores pares e imprima a lista"
      ],
      "metadata": {
        "id": "uxnbcuhURHco"
      },
      "execution_count": null,
      "outputs": []
    },
    {
      "cell_type": "code",
      "source": [
        "# Exercício 8 - Transforme o resultado desta função range em uma lista: range(5, 45, 2)\n",
        "nums = range(5, 45, 2)"
      ],
      "metadata": {
        "id": "CCU8ywf1RHSo"
      },
      "execution_count": null,
      "outputs": []
    },
    {
      "cell_type": "code",
      "source": [
        "# Exercício 9 - Faça a correção dos erros no código abaixo e execute o programa. Dica: são 3 erros.\n",
        "temperatura = float(input('Qual a temperatura? '))\n",
        "if temperatura > 30:\n",
        "  print('Vista roupas leves.')\n",
        "else:\n",
        "  print('Busque seus casacos.')"
      ],
      "metadata": {
        "id": "WuHqb4tTRHF8"
      },
      "execution_count": null,
      "outputs": []
    },
    {
      "cell_type": "code",
      "source": [
        "# Exercício 10 - Faça um programa que conte quantas vezes a letra \"r\" aparece na frase abaixo. Use um placeholder na \n",
        "# sua instrução de impressão\n",
        "\n",
        "# “É melhor, muito melhor, contentar-se com a realidade; se ela não é tão brilhante como os sonhos, tem pelo menos a \n",
        "# vantagem de existir.” (Machado de Assis)\n",
        "\n",
        "frase = \"É melhor, muito melhor, contentar-se com a realidade; se ela não é tão brilhante como os sonhos, tem pelo menos a vantagem de existir.\"  "
      ],
      "metadata": {
        "id": "eRSSi9asRFaD"
      },
      "execution_count": null,
      "outputs": []
    }
  ]
}