{
  "nbformat": 4,
  "nbformat_minor": 0,
  "metadata": {
    "colab": {
      "name": "DSA_Cap03.ipynb",
      "provenance": [],
      "collapsed_sections": [
        "JfvsM_rS8UGD",
        "oFXJxL7x8fOI",
        "sDlGXGNK-7uy",
        "boGugft6CIMX",
        "UX5dHyfwLqwS",
        "ipDaHCxlQcFi",
        "CjKIAAyq7XxE",
        "DtbS6G_GcfO2",
        "ufx1pxOripVH",
        "s_OQZyWAjTnk",
        "vLS4uB-keqEp",
        "vjYog-Sp3SKH"
      ],
      "authorship_tag": "ABX9TyNEX4/caTXGf4EuI12C/qBk",
      "include_colab_link": true
    },
    "kernelspec": {
      "name": "python3",
      "display_name": "Python 3"
    },
    "language_info": {
      "name": "python"
    }
  },
  "cells": [
    {
      "cell_type": "markdown",
      "metadata": {
        "id": "view-in-github",
        "colab_type": "text"
      },
      "source": [
        "<a href=\"https://colab.research.google.com/github/JardelSilva-86/FundamentosPython_DSA/blob/main/DSA_Cap03.ipynb\" target=\"_parent\"><img src=\"https://colab.research.google.com/assets/colab-badge.svg\" alt=\"Open In Colab\"/></a>"
      ]
    },
    {
      "cell_type": "markdown",
      "source": [
        "# Loop For\n"
      ],
      "metadata": {
        "id": "JfvsM_rS8UGD"
      }
    },
    {
      "cell_type": "code",
      "execution_count": null,
      "metadata": {
        "colab": {
          "base_uri": "https://localhost:8080/"
        },
        "id": "cNLiW6AJKh63",
        "outputId": "e2671126-fc95-499d-9d8b-6d5d20676887"
      },
      "outputs": [
        {
          "output_type": "stream",
          "name": "stdout",
          "text": [
            "2\n",
            "3\n",
            "4\n"
          ]
        }
      ],
      "source": [
        "# Loop For\n",
        "tp = (2, 3, 4)\n",
        "for i in tp:\n",
        "  print(i)"
      ]
    },
    {
      "cell_type": "code",
      "source": [
        "# Criando uma lista e imprimindo cada um dos valores\n",
        "listaDeMercado = [\"Leite\", \"Frutas\", \"Carne\"]\n",
        "for i in listaDeMercado:\n",
        "  print(i)"
      ],
      "metadata": {
        "colab": {
          "base_uri": "https://localhost:8080/"
        },
        "id": "nxt843xaLF6e",
        "outputId": "0150eda5-957c-4ac5-e823-98395498a7a9"
      },
      "execution_count": null,
      "outputs": [
        {
          "output_type": "stream",
          "name": "stdout",
          "text": [
            "Leite\n",
            "Frutas\n",
            "Carne\n"
          ]
        }
      ]
    },
    {
      "cell_type": "code",
      "source": [
        "# Imprimindo valores no intervalo de 0 a 5 (exclusive)\n",
        "for contador in range(0,5):\n",
        "  print(contador)"
      ],
      "metadata": {
        "colab": {
          "base_uri": "https://localhost:8080/"
        },
        "id": "C1m0SM4DLKuJ",
        "outputId": "d6e2d0c1-a0d9-44c0-9599-bd929b388ce5"
      },
      "execution_count": null,
      "outputs": [
        {
          "output_type": "stream",
          "name": "stdout",
          "text": [
            "0\n",
            "1\n",
            "2\n",
            "3\n",
            "4\n"
          ]
        }
      ]
    },
    {
      "cell_type": "code",
      "source": [
        "# Imprimindo na tela os Nº pares da lista de Nº\n",
        "lista = [1,2,3,4,5,6,7,8,9,10]\n",
        "for num in lista:\n",
        "  if num % 2 == 0:\n",
        "    print(num)"
      ],
      "metadata": {
        "colab": {
          "base_uri": "https://localhost:8080/"
        },
        "id": "nvIPK2d-MZMI",
        "outputId": "523399bd-b627-40ab-f51d-56ff6dc245f8"
      },
      "execution_count": null,
      "outputs": [
        {
          "output_type": "stream",
          "name": "stdout",
          "text": [
            "2\n",
            "4\n",
            "6\n",
            "8\n",
            "10\n"
          ]
        }
      ]
    },
    {
      "cell_type": "code",
      "source": [
        "# Listando os Nº no intervalo entre 0 e 101, de 12 em 12\n",
        "for i in range(0,101,12):\n",
        "  print(i)"
      ],
      "metadata": {
        "colab": {
          "base_uri": "https://localhost:8080/"
        },
        "id": "Vua1ziFZNAl3",
        "outputId": "7890d971-90de-4c80-f7db-7a7e355e05da"
      },
      "execution_count": null,
      "outputs": [
        {
          "output_type": "stream",
          "name": "stdout",
          "text": [
            "0\n",
            "12\n",
            "24\n",
            "36\n",
            "48\n",
            "60\n",
            "72\n",
            "84\n",
            "96\n"
          ]
        }
      ]
    },
    {
      "cell_type": "code",
      "source": [
        "# Strings também são sequências\n",
        "for caracteres in \"Python é uma linguagem de programção divertida\":\n",
        "  print(caracteres)"
      ],
      "metadata": {
        "id": "37WHJSDDNdU2"
      },
      "execution_count": null,
      "outputs": []
    },
    {
      "cell_type": "code",
      "source": [
        "# Loops Aninhados\n",
        "for i in range(0,5):\n",
        "  for j in range (0,5):\n",
        "    print(j)"
      ],
      "metadata": {
        "id": "qsgjcBGLOl6T"
      },
      "execution_count": null,
      "outputs": []
    },
    {
      "cell_type": "code",
      "source": [
        "# Operando os valores de uma lista com loop for\n",
        "ListaB = [32,53,85,10,15,17,19]\n",
        "#soma = 0\n",
        "\n",
        "for i in ListaB:\n",
        "  i *= i * 2\n",
        "  #double_i = i * 2\n",
        "  #soma += double_i\n",
        "\n",
        "print(i)"
      ],
      "metadata": {
        "id": "kdfl4CnTO3x2",
        "colab": {
          "base_uri": "https://localhost:8080/"
        },
        "outputId": "d69b697e-136b-4801-b8e6-7b1b454ce902"
      },
      "execution_count": null,
      "outputs": [
        {
          "output_type": "stream",
          "name": "stdout",
          "text": [
            "722\n"
          ]
        }
      ]
    },
    {
      "cell_type": "code",
      "source": [
        "# Loops em lista de listas\n",
        "listas = [[1,2,3], [10,15,14], [10.1,8.7,2.3]]\n",
        "for valor in listas:\n",
        "  print(valor)"
      ],
      "metadata": {
        "id": "Kyt-OzofPQb8"
      },
      "execution_count": null,
      "outputs": []
    },
    {
      "cell_type": "code",
      "source": [
        "# Contando os itens de uma lista\n",
        "lista = [5,6,10,13,17]\n",
        "count = 0 \n",
        "for i in lista:\n",
        "  count += 1 \n",
        "\n",
        "print(count)"
      ],
      "metadata": {
        "colab": {
          "base_uri": "https://localhost:8080/"
        },
        "id": "l-DBVRC3Qk8X",
        "outputId": "d33ee7f9-26af-4d49-c76a-314cbd91eac3"
      },
      "execution_count": null,
      "outputs": [
        {
          "output_type": "stream",
          "name": "stdout",
          "text": [
            "5\n"
          ]
        }
      ]
    },
    {
      "cell_type": "code",
      "source": [
        "# Contando o Nº de colunas\n",
        "lst = [[1,2,3],[4,5,6],[7,8,9]]\n",
        "primeira_linha = lst[0]\n",
        "count = 0\n",
        "for column in primeira_linha:\n",
        "  count = count + 1\n",
        "\n",
        "print(count)"
      ],
      "metadata": {
        "colab": {
          "base_uri": "https://localhost:8080/"
        },
        "id": "3_GIDH5uS-rH",
        "outputId": "04fca2ec-6f92-432c-e08d-551d5ac8cbd7"
      },
      "execution_count": null,
      "outputs": [
        {
          "output_type": "stream",
          "name": "stdout",
          "text": [
            "3\n"
          ]
        }
      ]
    },
    {
      "cell_type": "code",
      "source": [
        "# Pesquisando em listas\n",
        "listaC = [5,6,7,10,50]\n",
        "\n",
        "# loop através de lista\n",
        "for item in listaC:\n",
        "  if item == 2:\n",
        "    print(\"Nº encontrado na lista\")\n",
        "  else:\n",
        "    print(\"Nº não encontrado\")"
      ],
      "metadata": {
        "colab": {
          "base_uri": "https://localhost:8080/"
        },
        "id": "a2wCXso2UTwk",
        "outputId": "647ba474-21ac-4c8a-fd50-47b76206eaed"
      },
      "execution_count": null,
      "outputs": [
        {
          "output_type": "stream",
          "name": "stdout",
          "text": [
            "Nº não encontrado\n",
            "Nº não encontrado\n",
            "Nº não encontrado\n",
            "Nº não encontrado\n",
            "Nº não encontrado\n"
          ]
        }
      ]
    },
    {
      "cell_type": "code",
      "source": [
        "# Listando as chaves de um dicionário\n",
        "dict = {\"k1\": \"Python\", \"k2\": \"R\", \"k3\":\"Scala\"}\n",
        "for value in dict:\n",
        "  print(value)"
      ],
      "metadata": {
        "colab": {
          "base_uri": "https://localhost:8080/"
        },
        "id": "rFfl4S5UrWBw",
        "outputId": "6aecb1cf-6217-4184-99fd-f158eda0661a"
      },
      "execution_count": null,
      "outputs": [
        {
          "output_type": "stream",
          "name": "stdout",
          "text": [
            "k1\n",
            "k2\n",
            "k3\n"
          ]
        }
      ]
    },
    {
      "cell_type": "code",
      "source": [
        "# Imprimindo chave e valor do dicionário. Usando o método items() para retornar o sitens de um dicionário\n",
        "for k, v in dict.items():\n",
        "  print(k, v)"
      ],
      "metadata": {
        "colab": {
          "base_uri": "https://localhost:8080/"
        },
        "id": "jT3MsHAWr6vp",
        "outputId": "51741bc2-6130-4946-aedf-d047de4ce4d2"
      },
      "execution_count": null,
      "outputs": [
        {
          "output_type": "stream",
          "name": "stdout",
          "text": [
            "k1 Python\n",
            "k2 R\n",
            "k3 Scala\n"
          ]
        }
      ]
    },
    {
      "cell_type": "markdown",
      "source": [
        "# Loop While"
      ],
      "metadata": {
        "id": "oFXJxL7x8fOI"
      }
    },
    {
      "cell_type": "code",
      "source": [
        "# Usando o loop while para imprimir os valores de 0 a 9\n",
        "counter = 1\n",
        "while counter < 10:\n",
        "  print(counter)\n",
        "  counter += 1"
      ],
      "metadata": {
        "id": "N-hk44B38iSD"
      },
      "execution_count": null,
      "outputs": []
    },
    {
      "cell_type": "code",
      "source": [
        "# Tmabém é possível usar a claúsula else para encerrar o loop while\n",
        "x = 0\n",
        "\n",
        "while x < 10:\n",
        "  print(\"O valor de x nesta iteração é: {} \".format(x))\n",
        "  print(\"x ainda é menor que 10, somando 1 a x\")\n",
        "  print(\"-=\" * 8)\n",
        "  x += 1 \n",
        "\n",
        "else:\n",
        "  print(\"Loop concluído!\")\n"
      ],
      "metadata": {
        "id": "Flt3fXC585RV",
        "colab": {
          "base_uri": "https://localhost:8080/"
        },
        "outputId": "27c5643a-5bfc-447d-8ec8-891c74e1d91b"
      },
      "execution_count": null,
      "outputs": [
        {
          "output_type": "stream",
          "name": "stdout",
          "text": [
            "O valor de x nesta iteração é: 0 \n",
            "x ainda é menor que 10, somando 1 a x\n",
            "-=-=-=-=-=-=-=-=\n",
            "O valor de x nesta iteração é: 1 \n",
            "x ainda é menor que 10, somando 1 a x\n",
            "-=-=-=-=-=-=-=-=\n",
            "O valor de x nesta iteração é: 2 \n",
            "x ainda é menor que 10, somando 1 a x\n",
            "-=-=-=-=-=-=-=-=\n",
            "O valor de x nesta iteração é: 3 \n",
            "x ainda é menor que 10, somando 1 a x\n",
            "-=-=-=-=-=-=-=-=\n",
            "O valor de x nesta iteração é: 4 \n",
            "x ainda é menor que 10, somando 1 a x\n",
            "-=-=-=-=-=-=-=-=\n",
            "O valor de x nesta iteração é: 5 \n",
            "x ainda é menor que 10, somando 1 a x\n",
            "-=-=-=-=-=-=-=-=\n",
            "O valor de x nesta iteração é: 6 \n",
            "x ainda é menor que 10, somando 1 a x\n",
            "-=-=-=-=-=-=-=-=\n",
            "O valor de x nesta iteração é: 7 \n",
            "x ainda é menor que 10, somando 1 a x\n",
            "-=-=-=-=-=-=-=-=\n",
            "O valor de x nesta iteração é: 8 \n",
            "x ainda é menor que 10, somando 1 a x\n",
            "-=-=-=-=-=-=-=-=\n",
            "O valor de x nesta iteração é: 9 \n",
            "x ainda é menor que 10, somando 1 a x\n",
            "-=-=-=-=-=-=-=-=\n",
            "Loop concluído!\n"
          ]
        }
      ]
    },
    {
      "cell_type": "markdown",
      "source": [
        "# Pass, Break e Continue"
      ],
      "metadata": {
        "id": "sDlGXGNK-7uy"
      }
    },
    {
      "cell_type": "code",
      "source": [
        "counter = 0\n",
        "while counter < 100:\n",
        "  if counter == 10:\n",
        "    break # freia a iteração do código\n",
        "  else:\n",
        "    pass # continua a iteração do código\n",
        "  print(counter)\n",
        "  counter += 1"
      ],
      "metadata": {
        "colab": {
          "base_uri": "https://localhost:8080/"
        },
        "id": "Jh2QXpht-nIg",
        "outputId": "2157b0e6-ff4b-4011-9e72-7c665f1a9e5e"
      },
      "execution_count": null,
      "outputs": [
        {
          "output_type": "stream",
          "name": "stdout",
          "text": [
            "0\n",
            "1\n",
            "2\n",
            "3\n",
            "4\n",
            "5\n",
            "6\n",
            "7\n",
            "8\n",
            "9\n"
          ]
        }
      ]
    },
    {
      "cell_type": "code",
      "source": [
        "for verificador in \"Python\":\n",
        "  if verificador == \"h\":\n",
        "    continue # Pula uma iteração \n",
        "  print(verificador)"
      ],
      "metadata": {
        "colab": {
          "base_uri": "https://localhost:8080/"
        },
        "id": "ZtMESvMJ_XsO",
        "outputId": "a6264007-dbcc-4c42-e7c9-5cda38636c51"
      },
      "execution_count": null,
      "outputs": [
        {
          "output_type": "stream",
          "name": "stdout",
          "text": [
            "P\n",
            "y\n",
            "t\n",
            "o\n",
            "n\n"
          ]
        }
      ]
    },
    {
      "cell_type": "markdown",
      "source": [
        "# While e For juntos"
      ],
      "metadata": {
        "id": "boGugft6CIMX"
      }
    },
    {
      "cell_type": "code",
      "source": [
        "for i in range(2,30):\n",
        "  j = 2\n",
        "  counter = 0\n",
        "  while j < i:\n",
        "    if i % j == 0:\n",
        "      counter = 1\n",
        "      j += 1\n",
        "    else:\n",
        "      j += 1\n",
        "\n",
        "  if counter == 0:\n",
        "    print(str(i) + \" é um número primo.\")\n",
        "    counter = 0 \n",
        "  else:\n",
        "    counter = 0"
      ],
      "metadata": {
        "id": "ihbOujkyB5OG"
      },
      "execution_count": null,
      "outputs": []
    },
    {
      "cell_type": "markdown",
      "source": [
        "# Range"
      ],
      "metadata": {
        "id": "UX5dHyfwLqwS"
      }
    },
    {
      "cell_type": "code",
      "source": [
        "# Imprimindo números pares entre 50 a 101\n",
        "for i in range(50, 101, 2):\n",
        "  print(i)"
      ],
      "metadata": {
        "id": "m0UbJlPZLtUO"
      },
      "execution_count": null,
      "outputs": []
    },
    {
      "cell_type": "code",
      "source": [
        "for i in range(0, -20, -2):\n",
        "  print(i)"
      ],
      "metadata": {
        "id": "iEUkG_y5MDRA"
      },
      "execution_count": null,
      "outputs": []
    },
    {
      "cell_type": "code",
      "source": [
        "lista = ['Morango', 'Banana', 'Abacaxi', 'Uva']\n",
        "lista_tamanho = len(lista)\n",
        "for i in range(0, lista_tamanho):\n",
        "  print(lista[i])"
      ],
      "metadata": {
        "colab": {
          "base_uri": "https://localhost:8080/"
        },
        "id": "XqlHt4pdMUpj",
        "outputId": "dec257c9-c063-431c-c27c-4751dbc84e07"
      },
      "execution_count": null,
      "outputs": [
        {
          "output_type": "stream",
          "name": "stdout",
          "text": [
            "Morango\n",
            "Banana\n",
            "Abacaxi\n",
            "Uva\n"
          ]
        }
      ]
    },
    {
      "cell_type": "code",
      "source": [
        "# Tudo em Python é um objeto\n",
        "type(range(0,3))"
      ],
      "metadata": {
        "colab": {
          "base_uri": "https://localhost:8080/"
        },
        "id": "4TmvCOIbOQ2q",
        "outputId": "ec325b36-cf6f-49fe-e6fe-5c8410dac833"
      },
      "execution_count": null,
      "outputs": [
        {
          "output_type": "execute_result",
          "data": {
            "text/plain": [
              "range"
            ]
          },
          "metadata": {},
          "execution_count": 23
        }
      ]
    },
    {
      "cell_type": "markdown",
      "source": [
        "# Exercícios Loop For, While\n",
        " "
      ],
      "metadata": {
        "id": "ipDaHCxlQcFi"
      }
    },
    {
      "cell_type": "code",
      "source": [
        "# Exercício 1 - Crie uma estrutura que pergunte ao usuário qual o dia da semana. Se o dia for igual a Domingo ou \n",
        "# igual a sábado, imprima na tela \"Hoje é dia de descanso\", caso contrário imprima na tela \"Você precisa trabalhar!\"\n",
        "\n",
        "print(\"[1]Domingo [2]Segunda [3]Terça [4]Quarta [5]Quinta [6]Sexta [7]Sábado\")\n",
        "dia = int(input(\"Escolha o dia da semana: \"))\n",
        "if dia == 1 or dia == 7:\n",
        "  print(\"Hoje é dia de descanso!\")\n",
        "else:\n",
        "  print(\"Você precisa trabalhar!\")\n",
        "print('=-'* 19)\n",
        "\n",
        "# Solução DSA\n",
        "dia == input('Digite o dia da semana: ')\n",
        "if dia == 'Domingo' or dia == 'Sábado':\n",
        "    print(\"Hoje é dia de descanso!\")\n",
        "else:\n",
        "    print(\"Você precisa trabalhar!\")"
      ],
      "metadata": {
        "colab": {
          "base_uri": "https://localhost:8080/"
        },
        "id": "CdEyO2BWQO3F",
        "outputId": "b2b4a7ff-26f9-4c9c-ae86-9866fba565c1"
      },
      "execution_count": null,
      "outputs": [
        {
          "output_type": "stream",
          "name": "stdout",
          "text": [
            "[1]Domingo [2]Segunda [3]Terça [4]Quarta [5]Quinta [6]Sexta [7]Sábado \n",
            "Escolha o dia da semana: 4\n",
            "Você precisa trabalhar!\n",
            "=-=-=-=-=-=-=-=-=-=-=-=-=-=-=-=-=-=-=-\n",
            "Digite o dia da semana: Sexta\n",
            "Você precisa trabalhar!\n"
          ]
        }
      ]
    },
    {
      "cell_type": "code",
      "source": [
        "# Exercício 2 - Crie uma lista de 5 frutas e verifique se a fruta 'Morango' faz parte da lista\n",
        "lista = [\"Morango\", \"Abacaxi\", \"Figo\", \"Abacate\", \"Melão\"]\n",
        "for i in lista:\n",
        "  if i == \"Morango\":\n",
        "    print(\"Tem Morango nessa lista!\") \n",
        "print('=-' *20)\n",
        "\n",
        "# Solução DSA\n",
        "lista = ['Laranja', 'Maça', 'Abacaxi', 'Uva', 'Morango']\n",
        "for fruta in lista:\n",
        "    if fruta == 'Morango':\n",
        "        print(\"Morango faz parte da lista de frutas.\")\n"
      ],
      "metadata": {
        "colab": {
          "base_uri": "https://localhost:8080/"
        },
        "id": "a638fuSlRIEU",
        "outputId": "2f57c28c-5245-4fae-ff4d-d2a20a7ca286"
      },
      "execution_count": null,
      "outputs": [
        {
          "output_type": "stream",
          "name": "stdout",
          "text": [
            "Tem Morango nessa lista!\n"
          ]
        }
      ]
    },
    {
      "cell_type": "code",
      "source": [
        "# Exercício 3 - Crie uma tupla de 4 elementos, multiplique cada elemento da tupla por 2 e guarde os resultados em uma \n",
        "# lista\n",
        "tupla = (35, 45, 75, 50)\n",
        "lista = list(tupla)\n",
        "lista1 = []\n",
        "for i in lista:\n",
        "  i *= 2\n",
        "  lista1.append( i )\n",
        "tupla = tuple(lista1)\n",
        "print(tupla)\n",
        "\n",
        "print('=-' * 20)\n",
        "\n",
        "# Solução DSA\n",
        "\n",
        "tup1 = (1, 2, 3, 4)\n",
        "lst1 = []\n",
        "for i in tup1:\n",
        "    novo_valor = i * 2\n",
        "    lst1.append(novo_valor)\n",
        "print(lst1)\n"
      ],
      "metadata": {
        "colab": {
          "base_uri": "https://localhost:8080/"
        },
        "id": "l_QPesnPRH8g",
        "outputId": "9053d320-b383-4d9b-d01f-c0f650b6af51"
      },
      "execution_count": null,
      "outputs": [
        {
          "output_type": "stream",
          "name": "stdout",
          "text": [
            "(70, 90, 150, 100)\n"
          ]
        }
      ]
    },
    {
      "cell_type": "code",
      "source": [
        "# Exercício 4 - Crie uma sequência de números pares entre 100 e 150 e imprima na tela\n",
        "for i in range(100, 151, 2):\n",
        "  print(i)\n"
      ],
      "metadata": {
        "id": "ieHigGcvRH06"
      },
      "execution_count": null,
      "outputs": []
    },
    {
      "cell_type": "code",
      "source": [
        "# Exercício 5 - Crie uma variável chamada temperatura e atribua o valor 40. Enquanto temperatura for maior que 35, \n",
        "# imprima as temperaturas na tela\n",
        "temp = 40\n",
        "while temp > 35:\n",
        "  print(temp)\n",
        "  temp -= 1"
      ],
      "metadata": {
        "id": "8dZOrOdbRHtQ",
        "colab": {
          "base_uri": "https://localhost:8080/"
        },
        "outputId": "06b239c4-a738-4942-99ca-5bc0cc433179"
      },
      "execution_count": null,
      "outputs": [
        {
          "output_type": "stream",
          "name": "stdout",
          "text": [
            "40\n",
            "39\n",
            "38\n",
            "37\n",
            "36\n"
          ]
        }
      ]
    },
    {
      "cell_type": "code",
      "source": [
        "# Exercício 6 - Crie uma variável chamada contador = 0. Enquanto counter for menor que 100, imprima os valores na tela,\n",
        "# mas quando for encontrado o valor 23, interrompa a execução do programa\n",
        "contador = 0\n",
        "while contador < 100:\n",
        "  if contador == 23:\n",
        "    break\n",
        "  else:\n",
        "    pass\n",
        "  print(contador)\n",
        "  contador += 1"
      ],
      "metadata": {
        "id": "YXRzzy6ORHlk",
        "colab": {
          "base_uri": "https://localhost:8080/"
        },
        "outputId": "b3faf28f-5420-43b2-e3c1-740c344042d8"
      },
      "execution_count": null,
      "outputs": [
        {
          "output_type": "stream",
          "name": "stdout",
          "text": [
            "0\n",
            "1\n",
            "2\n",
            "3\n",
            "4\n",
            "5\n",
            "6\n",
            "7\n",
            "8\n",
            "9\n",
            "10\n",
            "11\n",
            "12\n",
            "13\n",
            "14\n",
            "15\n",
            "16\n",
            "17\n",
            "18\n",
            "19\n",
            "20\n",
            "21\n",
            "22\n"
          ]
        }
      ]
    },
    {
      "cell_type": "code",
      "source": [
        "# Exercício 7 - Crie uma lista vazia e uma variável com valor 4. Enquanto o valor da variável for menor ou igual a 20, \n",
        "# adicione à lista, apenas os valores pares e imprima a lista\n",
        "lista2 = []\n",
        "num = 4\n",
        "while num <= 20:\n",
        "    if num % 2 == 0:\n",
        "        lista2.append( num )\n",
        "    num += 1\n",
        "print(lista2)\n",
        "\n",
        "# Solução DSA\n",
        "\n",
        "numeros = list()\n",
        "i = 4\n",
        "while (i <= 20):\n",
        "    numeros.append(i)\n",
        "    i = i + 2\n",
        "print(numeros)"
      ],
      "metadata": {
        "id": "uxnbcuhURHco",
        "colab": {
          "base_uri": "https://localhost:8080/"
        },
        "outputId": "8ae67ceb-a9e0-4cb0-a8f4-7ccfc59782ad"
      },
      "execution_count": null,
      "outputs": [
        {
          "output_type": "stream",
          "name": "stdout",
          "text": [
            "[4, 6, 8, 10, 12, 14, 16, 18, 20]\n"
          ]
        }
      ]
    },
    {
      "cell_type": "code",
      "source": [
        "# Exercício 8 - Transforme o resultado desta função range em uma lista: range(5, 45, 2)\n",
        "nums = range(5, 45, 2)\n",
        "lista_range = []\n",
        "for i in range(5, 45, 2):\n",
        "    lista_range.append( i )\n",
        "print( lista_range)\n",
        "\n",
        "# Solução DSA\n",
        "\n",
        "nums = range(5, 45, 2)\n",
        "print(list(nums))"
      ],
      "metadata": {
        "id": "CCU8ywf1RHSo",
        "colab": {
          "base_uri": "https://localhost:8080/"
        },
        "outputId": "0932e2a8-fe13-47b1-9a0b-8d376ecffc3e"
      },
      "execution_count": null,
      "outputs": [
        {
          "output_type": "stream",
          "name": "stdout",
          "text": [
            "[5, 7, 9, 11, 13, 15, 17, 19, 21, 23, 25, 27, 29, 31, 33, 35, 37, 39, 41, 43]\n"
          ]
        }
      ]
    },
    {
      "cell_type": "code",
      "source": [
        "# Exercício 9 - Faça a correção dos erros no código abaixo e execute o programa. Dica: são 3 erros.\n",
        "# script errado\n",
        "'''\n",
        "temperatura = float(input('Qual a temperatura? '))\n",
        "if temperatura > 30\n",
        "print('Vista roupas leves.')\n",
        "else\n",
        "    print('Busque seus casacos.')\n",
        "'''\n",
        "\n",
        "# Script correto\n",
        "temperatura = float(input('Qual a temperatura? '))\n",
        "if temperatura > 30:\n",
        "  print('Vista roupas leves.')\n",
        "else:\n",
        "  print('Busque seus casacos.')"
      ],
      "metadata": {
        "id": "WuHqb4tTRHF8",
        "colab": {
          "base_uri": "https://localhost:8080/"
        },
        "outputId": "5ffa7590-5b88-4d7e-e5ae-8cce4559dcca"
      },
      "execution_count": null,
      "outputs": [
        {
          "output_type": "stream",
          "name": "stdout",
          "text": [
            "Qual a temperatura? 50\n",
            "Vista roupas leves.\n"
          ]
        }
      ]
    },
    {
      "cell_type": "code",
      "source": [
        "# Exercício 10 - Faça um programa que conte quantas vezes a letra \"r\" aparece na frase abaixo. Use um placeholder na \n",
        "# sua instrução de impressão\n",
        "\n",
        "# “É melhor, muito melhor, contentar-se com a realidade; se ela não é tão brilhante como os sonhos, tem pelo menos a \n",
        "# vantagem de existir.” (Machado de Assis)\n",
        "\n",
        "frase = \"É melhor, muito melhor, contentar-se com a realidade; se ela não é tão brilhante como os sonhos, tem pelo menos a vantagem de existir.\"  \n",
        "letra_r = frase.count('r')\n",
        "print( 'Há {} letras r na frase.'.format(letra_r))\n",
        "\n",
        "# Solução DSA\n",
        "\n",
        "frase2 = \"É melhor, muito melhor, contentar-se com a realidade; se ela não é tão brilhante como os sonhos, tem pelo menos a vantagem de existir.\"   \n",
        "count = 0\n",
        "for caracter in frase:\n",
        "    if caracter == 'r':\n",
        "        count += 1\n",
        "print(\"O caracter r aparece %s vezes na frase.\" %(count))"
      ],
      "metadata": {
        "id": "eRSSi9asRFaD",
        "colab": {
          "base_uri": "https://localhost:8080/"
        },
        "outputId": "634bda6a-6478-4ba8-88f7-3e9ac8326bcd"
      },
      "execution_count": null,
      "outputs": [
        {
          "output_type": "stream",
          "name": "stdout",
          "text": [
            "Há 6 letras r na frase.\n"
          ]
        }
      ]
    },
    {
      "cell_type": "markdown",
      "source": [
        "# Funções"
      ],
      "metadata": {
        "id": "CjKIAAyq7XxE"
      }
    },
    {
      "cell_type": "code",
      "source": [
        "# Definindo uma função\n",
        "def primeiraFunc():\n",
        "  print('Hello World!!!')\n",
        "\n",
        "primeiraFunc() # Chamando a função"
      ],
      "metadata": {
        "colab": {
          "base_uri": "https://localhost:8080/"
        },
        "id": "plH4w7V07aFy",
        "outputId": "65387c51-766b-4f42-8d10-c6b9ebc09f6e"
      },
      "execution_count": null,
      "outputs": [
        {
          "output_type": "stream",
          "name": "stdout",
          "text": [
            "Hello World\n"
          ]
        }
      ]
    },
    {
      "cell_type": "code",
      "source": [
        "# Definindo uma função com parâmetros\n",
        "def segundaFunc(nome):\n",
        "  # print('Hello %s!!!' %(nome))\n",
        "  print('Hello {}!!'.format(nome))\n",
        "\n",
        "segundaFunc('Jardel') # Chamando a função"
      ],
      "metadata": {
        "colab": {
          "base_uri": "https://localhost:8080/"
        },
        "id": "YZaS4uRd8AVZ",
        "outputId": "7264cc98-0c5d-484b-db37-0ad7607e9e18"
      },
      "execution_count": null,
      "outputs": [
        {
          "output_type": "stream",
          "name": "stdout",
          "text": [
            "Hello Jardel!!\n"
          ]
        }
      ]
    },
    {
      "cell_type": "code",
      "source": [
        "def funcLeitura():\n",
        "  for i in range(0, 5):\n",
        "    print('Número '+ str(i))\n",
        "\n",
        "funcLeitura() # Chamando a função"
      ],
      "metadata": {
        "colab": {
          "base_uri": "https://localhost:8080/"
        },
        "id": "kM7ZdxV08aiX",
        "outputId": "38251fdd-c38d-4164-e0c8-f3c9f08e3984"
      },
      "execution_count": null,
      "outputs": [
        {
          "output_type": "stream",
          "name": "stdout",
          "text": [
            "Número 0\n",
            "Número 1\n",
            "Número 2\n",
            "Número 3\n",
            "Número 4\n"
          ]
        }
      ]
    },
    {
      "cell_type": "code",
      "source": [
        "# Função para somar números\n",
        "def somaNum(num1, num2):\n",
        "  print( 'Primeiro número: {}.'.format(num1) )\n",
        "  print( 'Segundo número: {}.'.format(num2) )\n",
        "  print( 'A soma é: {}.'.format(num1 + num2))\n",
        "\n",
        "somaNum(5, 60)"
      ],
      "metadata": {
        "colab": {
          "base_uri": "https://localhost:8080/"
        },
        "id": "niUtJTRU9DL0",
        "outputId": "cf447b78-1326-408a-b2c1-b5bcad2fa107"
      },
      "execution_count": null,
      "outputs": [
        {
          "output_type": "stream",
          "name": "stdout",
          "text": [
            "Primeiro número: 5.\n",
            "Segundo número: 60.\n",
            "A soma é: 65.\n"
          ]
        }
      ]
    },
    {
      "cell_type": "markdown",
      "source": [
        "# Variáveis locais e globais"
      ],
      "metadata": {
        "id": "DtbS6G_GcfO2"
      }
    },
    {
      "cell_type": "code",
      "source": [
        "# Variável Global\n",
        "var_global = 10 # Esta é uma variável global\n",
        "\n",
        "def multiply( num1, num2 ):\n",
        "    var_global = num1 * num2 # Esta é uma variável local\n",
        "    print( var_global )\n",
        "\n",
        "multiply(11, 11) # Chamando a função"
      ],
      "metadata": {
        "colab": {
          "base_uri": "https://localhost:8080/"
        },
        "id": "bnyzqdVycjTt",
        "outputId": "66e56810-1f55-4a68-f675-055b33d19586"
      },
      "execution_count": null,
      "outputs": [
        {
          "output_type": "stream",
          "name": "stdout",
          "text": [
            "121\n"
          ]
        }
      ]
    },
    {
      "cell_type": "code",
      "source": [
        "print(var_global)"
      ],
      "metadata": {
        "colab": {
          "base_uri": "https://localhost:8080/"
        },
        "id": "wJ7N3TaadZ-D",
        "outputId": "9e0e7af1-d5f8-40f5-f76c-084dfc1161da"
      },
      "execution_count": null,
      "outputs": [
        {
          "output_type": "stream",
          "name": "stdout",
          "text": [
            "10\n"
          ]
        }
      ]
    },
    {
      "cell_type": "code",
      "source": [
        "# Variável Local\n",
        "var_global = 10 # Esta é uma variável global\n",
        "\n",
        "def divide( num3, num4 ):\n",
        "    var_local = num3 / num4 # Esta é uma variável local\n",
        "    print( var_local )\n",
        "    \n",
        "divide( 121, 11 ) # chamando a função"
      ],
      "metadata": {
        "colab": {
          "base_uri": "https://localhost:8080/"
        },
        "id": "2NCFXyWAdyzq",
        "outputId": "02e36577-a2cd-4432-814e-d4c741a2cdcd"
      },
      "execution_count": null,
      "outputs": [
        {
          "output_type": "stream",
          "name": "stdout",
          "text": [
            "11.0\n"
          ]
        }
      ]
    },
    {
      "cell_type": "code",
      "source": [
        "print( var_local )"
      ],
      "metadata": {
        "colab": {
          "base_uri": "https://localhost:8080/",
          "height": 165
        },
        "id": "jopHESDBeh3l",
        "outputId": "3c4ccc1f-fa28-4b90-98a9-1ba201376f9c"
      },
      "execution_count": null,
      "outputs": [
        {
          "output_type": "error",
          "ename": "NameError",
          "evalue": "ignored",
          "traceback": [
            "\u001b[0;31m---------------------------------------------------------------------------\u001b[0m",
            "\u001b[0;31mNameError\u001b[0m                                 Traceback (most recent call last)",
            "\u001b[0;32m<ipython-input-14-d7e47126f499>\u001b[0m in \u001b[0;36m<module>\u001b[0;34m()\u001b[0m\n\u001b[0;32m----> 1\u001b[0;31m \u001b[0mprint\u001b[0m\u001b[0;34m(\u001b[0m \u001b[0mvar_local\u001b[0m \u001b[0;34m)\u001b[0m\u001b[0;34m\u001b[0m\u001b[0;34m\u001b[0m\u001b[0m\n\u001b[0m",
            "\u001b[0;31mNameError\u001b[0m: name 'var_local' is not defined"
          ]
        }
      ]
    },
    {
      "cell_type": "markdown",
      "source": [
        "# Funções Built-in"
      ],
      "metadata": {
        "id": "ufx1pxOripVH"
      }
    },
    {
      "cell_type": "code",
      "source": [
        "abs(-45)"
      ],
      "metadata": {
        "colab": {
          "base_uri": "https://localhost:8080/"
        },
        "id": "uSFrI9xhjA78",
        "outputId": "14e794aa-4b3d-4b0a-d006-905c77d7040a"
      },
      "execution_count": null,
      "outputs": [
        {
          "output_type": "execute_result",
          "data": {
            "text/plain": [
              "45"
            ]
          },
          "metadata": {},
          "execution_count": 1
        }
      ]
    },
    {
      "cell_type": "code",
      "source": [
        "abs(32)"
      ],
      "metadata": {
        "colab": {
          "base_uri": "https://localhost:8080/"
        },
        "id": "EbXS4UcvjHiK",
        "outputId": "c1466353-2327-489b-b6e9-3ffd66989584"
      },
      "execution_count": null,
      "outputs": [
        {
          "output_type": "execute_result",
          "data": {
            "text/plain": [
              "32"
            ]
          },
          "metadata": {},
          "execution_count": 1
        }
      ]
    },
    {
      "cell_type": "code",
      "source": [
        "bool(0)"
      ],
      "metadata": {
        "colab": {
          "base_uri": "https://localhost:8080/"
        },
        "id": "ROSRQAb3jJ1F",
        "outputId": "ed42a1ae-eb8b-4c63-fdc4-67ec70b4e1e6"
      },
      "execution_count": null,
      "outputs": [
        {
          "output_type": "execute_result",
          "data": {
            "text/plain": [
              "False"
            ]
          },
          "metadata": {},
          "execution_count": 3
        }
      ]
    },
    {
      "cell_type": "code",
      "source": [
        "bool(1)"
      ],
      "metadata": {
        "colab": {
          "base_uri": "https://localhost:8080/"
        },
        "id": "Wg-_iBFTjMYb",
        "outputId": "9bca21e5-ab50-4dd0-ec41-0abab8f08026"
      },
      "execution_count": null,
      "outputs": [
        {
          "output_type": "execute_result",
          "data": {
            "text/plain": [
              "True"
            ]
          },
          "metadata": {},
          "execution_count": 4
        }
      ]
    },
    {
      "cell_type": "markdown",
      "source": [
        "# Funções str, int, float"
      ],
      "metadata": {
        "id": "s_OQZyWAjTnk"
      }
    },
    {
      "cell_type": "code",
      "source": [
        "# Erro ao executar por causa da conversão\n",
        "idade = input(\"Digite sua idade: \")\n",
        "if idade > 13:\n",
        "    print(\"Você pode acessar o Facebook.\")"
      ],
      "metadata": {
        "id": "uQR9kGcMjYXW"
      },
      "execution_count": null,
      "outputs": []
    },
    {
      "cell_type": "code",
      "source": [
        "# Usando a função int para converter o valor digitado\n",
        "idade = int(input(\"Digite sua idade: \"))\n",
        "if idade > 13:\n",
        "    print(\"Você pode acessar o Facebook\")"
      ],
      "metadata": {
        "id": "haAFnIdZjxRQ",
        "colab": {
          "base_uri": "https://localhost:8080/"
        },
        "outputId": "fe6c6222-70c1-45ca-9e29-430018f4afde"
      },
      "execution_count": null,
      "outputs": [
        {
          "output_type": "stream",
          "name": "stdout",
          "text": [
            "Digite sua idade: 15\n",
            "Você pode acessar o Facebook\n"
          ]
        }
      ]
    },
    {
      "cell_type": "code",
      "source": [
        "int(\"32\")"
      ],
      "metadata": {
        "colab": {
          "base_uri": "https://localhost:8080/"
        },
        "id": "sL1SZTX8c9yV",
        "outputId": "1f6d26e5-1b6c-4859-d3e2-ad4a68e5ec04"
      },
      "execution_count": null,
      "outputs": [
        {
          "output_type": "execute_result",
          "data": {
            "text/plain": [
              "32"
            ]
          },
          "metadata": {},
          "execution_count": 3
        }
      ]
    },
    {
      "cell_type": "code",
      "source": [
        "float(\"123.56\")"
      ],
      "metadata": {
        "colab": {
          "base_uri": "https://localhost:8080/"
        },
        "id": "cLmztVJ_dDyx",
        "outputId": "42eb7cc4-b154-4055-dc9b-8352210da65c"
      },
      "execution_count": null,
      "outputs": [
        {
          "output_type": "execute_result",
          "data": {
            "text/plain": [
              "123.56"
            ]
          },
          "metadata": {},
          "execution_count": 4
        }
      ]
    },
    {
      "cell_type": "code",
      "source": [
        "str(55)"
      ],
      "metadata": {
        "colab": {
          "base_uri": "https://localhost:8080/",
          "height": 35
        },
        "id": "zFhZps06dsUR",
        "outputId": "f4e16f15-8aa7-4450-9c4f-374defe88894"
      },
      "execution_count": null,
      "outputs": [
        {
          "output_type": "execute_result",
          "data": {
            "text/plain": [
              "'55'"
            ],
            "application/vnd.google.colaboratory.intrinsic+json": {
              "type": "string"
            }
          },
          "metadata": {},
          "execution_count": 8
        }
      ]
    },
    {
      "cell_type": "code",
      "source": [
        "len([23,46,86,48])"
      ],
      "metadata": {
        "colab": {
          "base_uri": "https://localhost:8080/"
        },
        "id": "NJhjadFddIXG",
        "outputId": "f83e961c-693e-499f-fbaf-e2a1bece7ccf"
      },
      "execution_count": null,
      "outputs": [
        {
          "output_type": "execute_result",
          "data": {
            "text/plain": [
              "4"
            ]
          },
          "metadata": {},
          "execution_count": 5
        }
      ]
    },
    {
      "cell_type": "code",
      "source": [
        "array = ['a', 'b', 'c']"
      ],
      "metadata": {
        "id": "kfFmV6NldOcE"
      },
      "execution_count": null,
      "outputs": []
    },
    {
      "cell_type": "code",
      "source": [
        "max(array)"
      ],
      "metadata": {
        "colab": {
          "base_uri": "https://localhost:8080/",
          "height": 35
        },
        "id": "whM-pSsldfun",
        "outputId": "7a2ffbd3-383d-4b4f-ecc6-12fe006c4890"
      },
      "execution_count": null,
      "outputs": [
        {
          "output_type": "execute_result",
          "data": {
            "text/plain": [
              "'c'"
            ],
            "application/vnd.google.colaboratory.intrinsic+json": {
              "type": "string"
            }
          },
          "metadata": {},
          "execution_count": 7
        }
      ]
    },
    {
      "cell_type": "code",
      "source": [
        "min(array)"
      ],
      "metadata": {
        "colab": {
          "base_uri": "https://localhost:8080/",
          "height": 35
        },
        "id": "uD5YL1ctdlOr",
        "outputId": "2975e2f3-92c1-4048-db38-82a80ef4e1b5"
      },
      "execution_count": null,
      "outputs": [
        {
          "output_type": "execute_result",
          "data": {
            "text/plain": [
              "'a'"
            ],
            "application/vnd.google.colaboratory.intrinsic+json": {
              "type": "string"
            }
          },
          "metadata": {},
          "execution_count": 9
        }
      ]
    },
    {
      "cell_type": "code",
      "source": [
        "array2 = ['a', 'b', 'c', 'd', 'A', 'B', 'C', 'D']"
      ],
      "metadata": {
        "id": "xgk8dTABdznN"
      },
      "execution_count": null,
      "outputs": []
    },
    {
      "cell_type": "code",
      "source": [
        "max(array2)"
      ],
      "metadata": {
        "colab": {
          "base_uri": "https://localhost:8080/",
          "height": 35
        },
        "id": "ffSpZI3KeAzF",
        "outputId": "1ce43e1a-ed0c-442e-903d-2b9cdb269de1"
      },
      "execution_count": null,
      "outputs": [
        {
          "output_type": "execute_result",
          "data": {
            "text/plain": [
              "'d'"
            ],
            "application/vnd.google.colaboratory.intrinsic+json": {
              "type": "string"
            }
          },
          "metadata": {},
          "execution_count": 12
        }
      ]
    },
    {
      "cell_type": "code",
      "source": [
        "min(array2)"
      ],
      "metadata": {
        "colab": {
          "base_uri": "https://localhost:8080/",
          "height": 35
        },
        "id": "F9HgXPoOeGTy",
        "outputId": "a2076b99-eb52-429c-f2e2-95244962ff0b"
      },
      "execution_count": null,
      "outputs": [
        {
          "output_type": "execute_result",
          "data": {
            "text/plain": [
              "'A'"
            ],
            "application/vnd.google.colaboratory.intrinsic+json": {
              "type": "string"
            }
          },
          "metadata": {},
          "execution_count": 13
        }
      ]
    },
    {
      "cell_type": "code",
      "source": [
        "list = [30, 63, 86, 21]"
      ],
      "metadata": {
        "id": "Ovv9UHtMeRCh"
      },
      "execution_count": null,
      "outputs": []
    },
    {
      "cell_type": "code",
      "source": [
        "sum(list)"
      ],
      "metadata": {
        "colab": {
          "base_uri": "https://localhost:8080/"
        },
        "id": "qShG0ialeXKA",
        "outputId": "baa9fed2-1d70-4532-d2f0-96c4210f3af7"
      },
      "execution_count": null,
      "outputs": [
        {
          "output_type": "execute_result",
          "data": {
            "text/plain": [
              "200"
            ]
          },
          "metadata": {},
          "execution_count": 17
        }
      ]
    },
    {
      "cell_type": "markdown",
      "source": [
        "# Criando uma função usando outras funções"
      ],
      "metadata": {
        "id": "vLS4uB-keqEp"
      }
    },
    {
      "cell_type": "code",
      "source": [
        "import math\n",
        "\n",
        "def numPrimo(num):\n",
        "    \"Verificando se um número é primo.\"\n",
        "    if (num % 2) == 0 and num > 2:\n",
        "        return \"Este número não é primo.\"\n",
        "    for i in range(3, int(math.sqrt(num)) + 1, 2):\n",
        "        if (num % i) == 0:\n",
        "            return \"Este número não é primo.\"\n",
        "    return \"Este número é primo.\"\n",
        "\n",
        "numPrimo(13)"
      ],
      "metadata": {
        "id": "hcz_V62Zew8h",
        "colab": {
          "base_uri": "https://localhost:8080/",
          "height": 35
        },
        "outputId": "3a899534-e651-42c8-a93a-a1d831886bc0"
      },
      "execution_count": null,
      "outputs": [
        {
          "output_type": "execute_result",
          "data": {
            "text/plain": [
              "'Este número é primo.'"
            ],
            "application/vnd.google.colaboratory.intrinsic+json": {
              "type": "string"
            }
          },
          "metadata": {},
          "execution_count": 6
        }
      ]
    },
    {
      "cell_type": "markdown",
      "source": [
        "## Fazendo split dos dados"
      ],
      "metadata": {
        "id": "nAteSMb4UobB"
      }
    },
    {
      "cell_type": "code",
      "source": [
        "# Fazendo split dos dados\n",
        "def split_string(text):\n",
        "    return text.split(\" \")\n",
        "\n",
        "texto = \"Esta função será bastante útil para separar grandes volumes de dados.\"\n",
        "\n",
        "# Isso divide a string em uma lista.\n",
        "print(split_string(texto))"
      ],
      "metadata": {
        "colab": {
          "base_uri": "https://localhost:8080/"
        },
        "id": "nIRvWBQySmuM",
        "outputId": "723d2a04-9598-43cd-863b-bbcd764c2acc"
      },
      "execution_count": null,
      "outputs": [
        {
          "output_type": "stream",
          "name": "stdout",
          "text": [
            "['Esta', 'função', 'será', 'bastante', 'útil', 'para', 'separar', 'grandes', 'volumes', 'de', 'dados.']\n"
          ]
        }
      ]
    },
    {
      "cell_type": "code",
      "source": [
        "# Podemos atribuir o output de uma função, para uma variável\n",
        "token = split_string(texto)\n",
        "\n",
        "token"
      ],
      "metadata": {
        "colab": {
          "base_uri": "https://localhost:8080/"
        },
        "id": "A24l4FyQWed1",
        "outputId": "ff84dcbc-297b-4713-e532-d6954183425f"
      },
      "execution_count": null,
      "outputs": [
        {
          "output_type": "execute_result",
          "data": {
            "text/plain": [
              "['Esta',\n",
              " 'função',\n",
              " 'será',\n",
              " 'bastante',\n",
              " 'útil',\n",
              " 'para',\n",
              " 'separar',\n",
              " 'grandes',\n",
              " 'volumes',\n",
              " 'de',\n",
              " 'dados.']"
            ]
          },
          "metadata": {},
          "execution_count": 10
        }
      ]
    },
    {
      "cell_type": "code",
      "source": [
        "caixa_baixa = \"ESTE TEXTO DEVERIA ESTAR TODO EM LOWERCASE.\"\n",
        "\n",
        "def lowercase(text):\n",
        "    return text.lower()\n",
        "\n",
        "lowercase_string = lowercase(caixa_baixa)\n",
        "\n",
        "lowercase_string"
      ],
      "metadata": {
        "colab": {
          "base_uri": "https://localhost:8080/",
          "height": 35
        },
        "id": "WhLVSm9PW982",
        "outputId": "9096d23a-67af-4da8-c027-0ed03121b7ed"
      },
      "execution_count": null,
      "outputs": [
        {
          "output_type": "execute_result",
          "data": {
            "text/plain": [
              "'este texto deveria estar todo em lowercase.'"
            ],
            "application/vnd.google.colaboratory.intrinsic+json": {
              "type": "string"
            }
          },
          "metadata": {},
          "execution_count": 11
        }
      ]
    },
    {
      "cell_type": "code",
      "source": [
        "# Funções com número variável de argumentos\n",
        "\n",
        "def printVarInfo( arg1, *vartuple ):\n",
        "    # Imprimindo o valor do primeiro argumento\n",
        "    print(\"O parâmetro passado foi: \", arg1)\n",
        "\n",
        "    # Imprimindo o valor do segundo argumento\n",
        "    for item in vartuple:\n",
        "        print(\"O parâmetro passado foi: \", item)\n",
        "    return;\n",
        "\n",
        "# Fazendo a chamada à função usando apenas 1 argumento\n",
        "printVarInfo(10)\n",
        "\n",
        "# Fazendo a chamada à função usando vários argumentos\n",
        "printVarInfo('The Last of Us', 'Uncharted 4', 'Mortal Kombat 11')"
      ],
      "metadata": {
        "colab": {
          "base_uri": "https://localhost:8080/"
        },
        "id": "BxSw4T4hm8Mz",
        "outputId": "388f38cc-67e0-4df1-a2f7-7acbac8bd024"
      },
      "execution_count": null,
      "outputs": [
        {
          "output_type": "stream",
          "name": "stdout",
          "text": [
            "O parâmetro passado foi:  10\n",
            "O parâmetro passado foi:  The Last of Us\n",
            "O parâmetro passado foi:  Uncharted 4\n",
            "O parâmetro passado foi:  Mortal Kombat 11\n"
          ]
        }
      ]
    },
    {
      "cell_type": "markdown",
      "source": [
        "# Expressões Lambdas"
      ],
      "metadata": {
        "id": "vjYog-Sp3SKH"
      }
    },
    {
      "cell_type": "code",
      "source": [
        "'''\n",
        "Objetos de função desenvolvidos execuntando expressões lambda funcionam\n",
        "exatamente da mesma forma como aqueles criados e atribuídos pela palavra \n",
        "reservada def. Mas há algumas diferenças fundamentais que fazem lambda \n",
        "útil em funções especializadas.\n",
        "'''\n",
        "\n",
        "'''\n",
        "O corpo do lambda é uma única expressão, não um bloco de instruções.\n",
        "O corpo do lambda é semelhante a uma instrução de retorno do corpo def.\n",
        "'''\n",
        "\n",
        "'''\n",
        "Expressões lambda realmente são úteis, quando usadas em conjunto com as \n",
        "funções map(), filter() e reduce().\n",
        "'''\n",
        "\n",
        "'''\n",
        "Expressões lambda são usadas para criar funções simples.\n",
        "São chamadas funções in-line ou apenas funções anônimas.\n",
        "'''\n",
        "# Sintaxe - lambda <parâmetro entrada>: <retorno da função>\n",
        "\n",
        "'''\n",
        "Diferença entre def e lambda para criar funções:\n",
        "def -> cria um objeto e atribui um nome a ele (nome da função)\n",
        "lambda -> cria um objeto, mas o retorna como um resultado em tempo\n",
        " de execução.\n",
        "'''"
      ],
      "metadata": {
        "id": "tFwcdbSp3W3P"
      },
      "execution_count": null,
      "outputs": []
    },
    {
      "cell_type": "code",
      "source": [
        "# Definindo uma função - 3 linhas de código\n",
        "def potencia(num):\n",
        "    result = num**2\n",
        "    return result\n",
        "\n",
        "potencia(5)"
      ],
      "metadata": {
        "colab": {
          "base_uri": "https://localhost:8080/"
        },
        "id": "66bZ1PKoxTB7",
        "outputId": "3debf40c-673e-4d52-ac34-9c599b5f1b56"
      },
      "execution_count": null,
      "outputs": [
        {
          "output_type": "execute_result",
          "data": {
            "text/plain": [
              "25"
            ]
          },
          "metadata": {},
          "execution_count": 1
        }
      ]
    },
    {
      "cell_type": "code",
      "source": [
        "# Definindo uma função - 2 linhas de código\n",
        "def potencia(num):\n",
        "    return num**2\n",
        "\n",
        "potencia(5)"
      ],
      "metadata": {
        "id": "dnJ7iPDcxmW4"
      },
      "execution_count": null,
      "outputs": []
    },
    {
      "cell_type": "code",
      "source": [
        "# Definindo uma função - 1 linha de código\n",
        "def potencia(num): return num**2\n",
        "\n",
        "potencia(5)"
      ],
      "metadata": {
        "id": "j2a125imyAH5",
        "colab": {
          "base_uri": "https://localhost:8080/"
        },
        "outputId": "b9512844-6171-4d00-b5c2-3b3f2ff7bd3c"
      },
      "execution_count": null,
      "outputs": [
        {
          "output_type": "execute_result",
          "data": {
            "text/plain": [
              "25"
            ]
          },
          "metadata": {},
          "execution_count": 2
        }
      ]
    },
    {
      "cell_type": "code",
      "source": [
        "# Definindo uma expressão Lambda\n",
        "potencia = lambda num: num**2\n",
        "\n",
        "potencia(5)\n",
        "# A expressão Lambda não aceita mais de uma instrução"
      ],
      "metadata": {
        "colab": {
          "base_uri": "https://localhost:8080/"
        },
        "id": "w-oZ-yQLYGCB",
        "outputId": "fa4176fb-856f-4c2b-e110-bdc1657b5265"
      },
      "execution_count": null,
      "outputs": [
        {
          "output_type": "execute_result",
          "data": {
            "text/plain": [
              "25"
            ]
          },
          "metadata": {},
          "execution_count": 3
        }
      ]
    },
    {
      "cell_type": "code",
      "source": [
        "# Lembre: operadores de comparação retorna boolean, true or false\n",
        "Par = lambda x: x % 2 == 0\n",
        "\n",
        "Par(3)"
      ],
      "metadata": {
        "colab": {
          "base_uri": "https://localhost:8080/"
        },
        "id": "OYpRGtmyYpY-",
        "outputId": "0dcacfed-b1ff-48cf-d44c-be83081e176e"
      },
      "execution_count": null,
      "outputs": [
        {
          "output_type": "execute_result",
          "data": {
            "text/plain": [
              "False"
            ]
          },
          "metadata": {},
          "execution_count": 8
        }
      ]
    },
    {
      "cell_type": "code",
      "source": [
        "Par(10)"
      ],
      "metadata": {
        "colab": {
          "base_uri": "https://localhost:8080/"
        },
        "id": "cKWgzK7_ZHB_",
        "outputId": "80faa888-c1f2-40f7-cb8e-f0fa216a9ec0"
      },
      "execution_count": null,
      "outputs": [
        {
          "output_type": "execute_result",
          "data": {
            "text/plain": [
              "True"
            ]
          },
          "metadata": {},
          "execution_count": 9
        }
      ]
    },
    {
      "cell_type": "code",
      "source": [
        "# Fatiamento de um string\n",
        "first = lambda s: s[3]\n",
        "\n",
        "first('Python')"
      ],
      "metadata": {
        "colab": {
          "base_uri": "https://localhost:8080/",
          "height": 35
        },
        "id": "W098C_GHZBTs",
        "outputId": "caef4505-00d7-4e78-d8ca-c7f8e8a0c0e0"
      },
      "execution_count": null,
      "outputs": [
        {
          "output_type": "execute_result",
          "data": {
            "text/plain": [
              "'h'"
            ],
            "application/vnd.google.colaboratory.intrinsic+json": {
              "type": "string"
            }
          },
          "metadata": {},
          "execution_count": 10
        }
      ]
    },
    {
      "cell_type": "code",
      "source": [
        "# Operação reversa\n",
        "reverso = lambda s: s[::-1]\n",
        "\n",
        "reverso('Python')"
      ],
      "metadata": {
        "colab": {
          "base_uri": "https://localhost:8080/",
          "height": 35
        },
        "id": "fe8Q2Q5HZX-3",
        "outputId": "5a83d791-7132-4f84-c9e1-456222de0328"
      },
      "execution_count": null,
      "outputs": [
        {
          "output_type": "execute_result",
          "data": {
            "text/plain": [
              "'nohtyP'"
            ],
            "application/vnd.google.colaboratory.intrinsic+json": {
              "type": "string"
            }
          },
          "metadata": {},
          "execution_count": 11
        }
      ]
    },
    {
      "cell_type": "code",
      "source": [
        "AddNum = lambda x, y: x + y\n",
        "\n",
        "AddNum(35, 75)"
      ],
      "metadata": {
        "colab": {
          "base_uri": "https://localhost:8080/"
        },
        "id": "eLSup6asZ3rC",
        "outputId": "6372e7bd-d3f3-48cd-9ff4-0912ffd7c7c9"
      },
      "execution_count": null,
      "outputs": [
        {
          "output_type": "execute_result",
          "data": {
            "text/plain": [
              "110"
            ]
          },
          "metadata": {},
          "execution_count": 13
        }
      ]
    },
    {
      "cell_type": "markdown",
      "source": [
        "# Exercícios de métodos e funções"
      ],
      "metadata": {
        "id": "V9VRhPNu9d1D"
      }
    },
    {
      "cell_type": "code",
      "source": [
        "# Exercício 1 - Crie uma função que imprima a sequência de números pares entre 1 e 20 (a função não recebe parâmetro) e \n",
        "# depois faça uma chamada à função para listar os números \n",
        "\n",
        "def Par():\n",
        "    for i in range(1, 20):\n",
        "        if i % 2 == 0:\n",
        "            print(i)\n",
        "\n",
        "print(Par())\n",
        "\n",
        "# Solução DSA\n",
        "\n",
        "def listaPar():\n",
        "    for i in range(2, 21, 2):\n",
        "        print(i)\n",
        "\n",
        "listaPar()\n"
      ],
      "metadata": {
        "id": "XCo1HVNQ9iDV"
      },
      "execution_count": null,
      "outputs": []
    },
    {
      "cell_type": "code",
      "source": [
        "# Exercício 2 - Crie uam função que receba uma string como argumento e retorne a mesma string em letras maiúsculas.\n",
        "# Faça uma chamada à função, passando como parâmetro uma string\n",
        "\n",
        "def upperString(text):\n",
        "    print(text.upper())\n",
        "\n",
        "nome = \"jardel da silva\"\n",
        "upperString(nome)\n",
        "\n",
        "# Solução DSA\n",
        "\n",
        "def listaString(texto):\n",
        "    print(texto.upper())\n",
        "    return\n",
        "\n",
        "listaString(\"Rumo à Análise de Dados\")"
      ],
      "metadata": {
        "id": "oaa8uUyZ93g3",
        "colab": {
          "base_uri": "https://localhost:8080/"
        },
        "outputId": "219804b9-0ce5-44c0-b36a-afc2b05518fe"
      },
      "execution_count": 5,
      "outputs": [
        {
          "output_type": "stream",
          "name": "stdout",
          "text": [
            "JARDEL DA SILVA\n",
            "RUMO À ANÁLISE DE DADOS\n"
          ]
        }
      ]
    },
    {
      "cell_type": "code",
      "source": [
        "# Exercício 3 - Crie uma função que receba como parâmetro uma lista de 4 elementos, adicione 2 elementos a lista e \n",
        "# imprima a lista\n",
        "\n",
        "print('Não consegui fazer esse!!')\n",
        "\n",
        "# Solução DSA\n",
        "\n",
        "def novalista(lista):\n",
        "    print(lista.append(5))\n",
        "    print(lista.append(6))\n",
        "\n",
        "lst = [5, 2, 'Banana', \"Coxinha\"]\n",
        "novalista(lst)\n",
        "print(lst)\n"
      ],
      "metadata": {
        "id": "8yhiWQyi93YW"
      },
      "execution_count": null,
      "outputs": []
    },
    {
      "cell_type": "code",
      "source": [
        "# Exercício 4 - Crie uma função que receba um argumento formal e uma possível lista de elementos. Faça duas chamadas \n",
        "# à função, com apenas 1 elemento e na segunda chamada com 4 elementos\n"
      ],
      "metadata": {
        "id": "saGZLy6k93QM"
      },
      "execution_count": null,
      "outputs": []
    },
    {
      "cell_type": "code",
      "source": [
        "# Exercício 5 - Crie uma função anônima e atribua seu retorno a uma variável chamada soma. A expressão vai receber 2 \n",
        "# números como parâmetro e retornar a soma deles"
      ],
      "metadata": {
        "id": "VbGPwwWY93H0"
      },
      "execution_count": null,
      "outputs": []
    },
    {
      "cell_type": "code",
      "source": [
        "# Exercício 6 - Execute o código abaixo e certifique-se que compreende a diferença entre variável global e local\n",
        "total = 0\n",
        "def soma( arg1, arg2 ):\n",
        "    total = arg1 + arg2; \n",
        "    print (\"Dentro da função o total é: \", total)\n",
        "    return total;\n",
        "\n",
        "\n",
        "soma( 10, 20 );\n",
        "print (\"Fora da função o total é: \", total)"
      ],
      "metadata": {
        "id": "VIcePDvR92_L"
      },
      "execution_count": null,
      "outputs": []
    },
    {
      "cell_type": "code",
      "source": [
        "# Exercício 7 - Abaixo você encontra uma lista com temperaturas em graus Celsius\n",
        "# Crie uma função anônima que converta cada temperatura para Fahrenheit\n",
        "# Dica: para conseguir realizar este exercício, você deve criar sua função lambda, dentro de uma função \n",
        "# (que será estudada no próximo capítulo). Isso permite aplicar sua função a cada elemento da lista\n",
        "# Como descobrir a fórmula matemática que converte de Celsius para Fahrenheit? Pesquise!!!\n",
        "Celsius = [39.2, 36.5, 37.3, 37.8]\n",
        "Fahrenheit = map(coloque_aqui_sua_função_lambda)\n",
        "print (list(Fahrenheit))"
      ],
      "metadata": {
        "id": "pcQ8uO4z922a"
      },
      "execution_count": null,
      "outputs": []
    },
    {
      "cell_type": "code",
      "source": [
        "# Exercício 8\n",
        "# Crie um dicionário e liste todos os métodos e atributos do dicionário"
      ],
      "metadata": {
        "id": "NKvlxNMU92sa"
      },
      "execution_count": null,
      "outputs": []
    },
    {
      "cell_type": "code",
      "source": [
        "# Exercício 9\n",
        "# Abaixo você encontra a importação do Pandas, um dos principais pacotes Python para análise de dados.\n",
        "# Analise atentamente todos os métodos disponíveis. Um deles você vai usar no próximo exercício.\n",
        "import pandas as pd\n",
        "dir(pd)"
      ],
      "metadata": {
        "id": "8lEWY3x092iW"
      },
      "execution_count": null,
      "outputs": []
    },
    {
      "cell_type": "code",
      "source": [
        "# ************* Desafio ************* (pesquise na documentação Python)\n",
        "\n",
        "# Exercício 10 - Crie uma função que receba o arquivo abaixo como argumento e retorne um resumo estatístico descritivo \n",
        "# do arquivo. Dica, use Pandas e um de seus métodos, describe()\n",
        "# Arquivo: \"binary.csv\"\n",
        "import pandas as pd\n",
        "file_name = \"binary.csv\""
      ],
      "metadata": {
        "id": "DA-obLHM92Vv"
      },
      "execution_count": null,
      "outputs": []
    }
  ]
}