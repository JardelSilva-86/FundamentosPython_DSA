{
  "nbformat": 4,
  "nbformat_minor": 0,
  "metadata": {
    "colab": {
      "name": "DSA_Cap04.ipynb",
      "provenance": [],
      "collapsed_sections": [],
      "mount_file_id": "1Bq7-I-IeCozwu_jpQ1UpgYmj2_1xUQry",
      "authorship_tag": "ABX9TyP1gCasDL9aKlmOfsZpYcXE",
      "include_colab_link": true
    },
    "kernelspec": {
      "name": "python3",
      "display_name": "Python 3"
    },
    "language_info": {
      "name": "python"
    }
  },
  "cells": [
    {
      "cell_type": "markdown",
      "metadata": {
        "id": "view-in-github",
        "colab_type": "text"
      },
      "source": [
        "<a href=\"https://colab.research.google.com/github/JardelSilva-86/FundamentosPython_DSA/blob/main/DSA_Cap04.ipynb\" target=\"_parent\"><img src=\"https://colab.research.google.com/assets/colab-badge.svg\" alt=\"Open In Colab\"/></a>"
      ]
    },
    {
      "cell_type": "markdown",
      "source": [
        "# Lendo arquivos"
      ],
      "metadata": {
        "id": "CihBp0mYIFET"
      }
    },
    {
      "cell_type": "code",
      "execution_count": 11,
      "metadata": {
        "id": "cvMgBUFGHYqU"
      },
      "outputs": [],
      "source": [
        "# Abrindo o arquivo para leitura\n",
        "arq1 = open('/content/drive/MyDrive/Colab Notebooks/DataScienceAcademy/DSA_Cap04/Arquivo.txt', 'r', encoding='ISO-8859-1')"
      ]
    },
    {
      "cell_type": "code",
      "source": [
        "# Lendo o arquivo\n",
        "print(arq1.read())"
      ],
      "metadata": {
        "id": "bD5UDPsgL_Jh",
        "colab": {
          "base_uri": "https://localhost:8080/"
        },
        "outputId": "01a29302-7b27-41d8-89eb-89dd1516ac25"
      },
      "execution_count": 12,
      "outputs": [
        {
          "output_type": "stream",
          "name": "stdout",
          "text": [
            "Python é uma linguagem poderosa\n"
          ]
        }
      ]
    },
    {
      "cell_type": "code",
      "source": [
        "# Contar o número de caracteres\n",
        "print(arq1.tell())"
      ],
      "metadata": {
        "id": "qey-EfOZMRmP",
        "colab": {
          "base_uri": "https://localhost:8080/"
        },
        "outputId": "3161fe60-ab17-497d-91e4-3412302444a7"
      },
      "execution_count": 13,
      "outputs": [
        {
          "output_type": "stream",
          "name": "stdout",
          "text": [
            "31\n"
          ]
        }
      ]
    },
    {
      "cell_type": "code",
      "source": [
        "# Retornar para o ínicio do arquivo\n",
        "print(arq1.seek(0, 0)) # 0,0 - Significa, 1ª linha e 1ª coluna do arquivo"
      ],
      "metadata": {
        "colab": {
          "base_uri": "https://localhost:8080/"
        },
        "id": "phAfrMfQHLod",
        "outputId": "eb86ff60-1e67-44b2-dde5-8b95a98e7d07"
      },
      "execution_count": 23,
      "outputs": [
        {
          "output_type": "stream",
          "name": "stdout",
          "text": [
            "0\n"
          ]
        }
      ]
    },
    {
      "cell_type": "code",
      "source": [
        "# Ler os primeiros 10 caracteres\n",
        "print(arq1.read(9))"
      ],
      "metadata": {
        "colab": {
          "base_uri": "https://localhost:8080/"
        },
        "id": "ZUItgkyRHg0r",
        "outputId": "49ae5a1f-2340-4b08-e30f-90371e381ad7"
      },
      "execution_count": 24,
      "outputs": [
        {
          "output_type": "stream",
          "name": "stdout",
          "text": [
            "Python é \n"
          ]
        }
      ]
    },
    {
      "cell_type": "markdown",
      "source": [
        "# Gravando arquivos"
      ],
      "metadata": {
        "id": "AreRyPkRIJDS"
      }
    },
    {
      "cell_type": "code",
      "source": [
        "# Abrindo o arquivo para escrita/gravação\n",
        "arq2 = open('/content/drive/MyDrive/Colab Notebooks/DataScienceAcademy/DSA_Cap04/Arquivo.txt', 'w', encoding='ISO-8859-1')"
      ],
      "metadata": {
        "id": "IqYzUlLfHp_u"
      },
      "execution_count": 25,
      "outputs": []
    },
    {
      "cell_type": "code",
      "source": [
        "# Como abrímos o arquivo para escreta/gravação, não podemos usar comando de leitura\n",
        "print(arq2.read())"
      ],
      "metadata": {
        "colab": {
          "base_uri": "https://localhost:8080/",
          "height": 183
        },
        "id": "u9ZdKXA9Pwrx",
        "outputId": "9d86ae63-2187-4777-970f-860d859ce2e0"
      },
      "execution_count": 26,
      "outputs": [
        {
          "output_type": "error",
          "ename": "UnsupportedOperation",
          "evalue": "ignored",
          "traceback": [
            "\u001b[0;31m---------------------------------------------------------------------------\u001b[0m",
            "\u001b[0;31mUnsupportedOperation\u001b[0m                      Traceback (most recent call last)",
            "\u001b[0;32m<ipython-input-26-b658981f7af1>\u001b[0m in \u001b[0;36m<module>\u001b[0;34m()\u001b[0m\n\u001b[1;32m      1\u001b[0m \u001b[0;31m# Como abrímos o arquivo para escreta/gravação, não podemos usar comando de leitura\u001b[0m\u001b[0;34m\u001b[0m\u001b[0;34m\u001b[0m\u001b[0;34m\u001b[0m\u001b[0m\n\u001b[0;32m----> 2\u001b[0;31m \u001b[0mprint\u001b[0m\u001b[0;34m(\u001b[0m\u001b[0marq2\u001b[0m\u001b[0;34m.\u001b[0m\u001b[0mread\u001b[0m\u001b[0;34m(\u001b[0m\u001b[0;34m)\u001b[0m\u001b[0;34m)\u001b[0m\u001b[0;34m\u001b[0m\u001b[0;34m\u001b[0m\u001b[0m\n\u001b[0m",
            "\u001b[0;31mUnsupportedOperation\u001b[0m: not readable"
          ]
        }
      ]
    },
    {
      "cell_type": "code",
      "source": [
        "# Gravando arquivo\n",
        "arq2.write('Testando gravação de arquivos em Python.')"
      ],
      "metadata": {
        "colab": {
          "base_uri": "https://localhost:8080/"
        },
        "id": "iGQV4b4RQBKL",
        "outputId": "fa5e9378-f6a9-45b8-aea4-90c1231c4b87"
      },
      "execution_count": 27,
      "outputs": [
        {
          "output_type": "execute_result",
          "data": {
            "text/plain": [
              "40"
            ]
          },
          "metadata": {},
          "execution_count": 27
        }
      ]
    },
    {
      "cell_type": "code",
      "source": [
        "arq2.close()"
      ],
      "metadata": {
        "id": "HK4lUv9FQOj-"
      },
      "execution_count": 28,
      "outputs": []
    },
    {
      "cell_type": "code",
      "source": [
        "# Lendo o arquivo modificado\n",
        "arq2 = open('/content/drive/MyDrive/Colab Notebooks/DataScienceAcademy/DSA_Cap04/Arquivo.txt', 'r', encoding='ISO-8859-1')"
      ],
      "metadata": {
        "id": "a7t5aQNxQUWn"
      },
      "execution_count": 29,
      "outputs": []
    },
    {
      "cell_type": "code",
      "source": [
        "print(arq2.read())"
      ],
      "metadata": {
        "colab": {
          "base_uri": "https://localhost:8080/"
        },
        "id": "PhPE_QVXQeCN",
        "outputId": "c95d1de0-18b5-4e7c-f07a-f9d0fa059fc1"
      },
      "execution_count": 30,
      "outputs": [
        {
          "output_type": "stream",
          "name": "stdout",
          "text": [
            "Testando gravação de arquivos em Python.\n"
          ]
        }
      ]
    },
    {
      "cell_type": "code",
      "source": [
        ""
      ],
      "metadata": {
        "id": "OhOk70NqQiel"
      },
      "execution_count": null,
      "outputs": []
    }
  ]
}