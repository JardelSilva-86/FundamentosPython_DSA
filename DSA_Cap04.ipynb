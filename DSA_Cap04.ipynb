{
  "nbformat": 4,
  "nbformat_minor": 0,
  "metadata": {
    "colab": {
      "name": "DSA_Cap04.ipynb",
      "provenance": [],
      "collapsed_sections": [],
      "mount_file_id": "1Bq7-I-IeCozwu_jpQ1UpgYmj2_1xUQry",
      "authorship_tag": "ABX9TyOhNSZh3wEySD7Mrig2w1GJ",
      "include_colab_link": true
    },
    "kernelspec": {
      "name": "python3",
      "display_name": "Python 3"
    },
    "language_info": {
      "name": "python"
    }
  },
  "cells": [
    {
      "cell_type": "markdown",
      "metadata": {
        "id": "view-in-github",
        "colab_type": "text"
      },
      "source": [
        "<a href=\"https://colab.research.google.com/github/JardelSilva-86/FundamentosPython_DSA/blob/main/DSA_Cap04.ipynb\" target=\"_parent\"><img src=\"https://colab.research.google.com/assets/colab-badge.svg\" alt=\"Open In Colab\"/></a>"
      ]
    },
    {
      "cell_type": "code",
      "execution_count": 11,
      "metadata": {
        "id": "cvMgBUFGHYqU"
      },
      "outputs": [],
      "source": [
        "# Abrindo o arquivo para leitura\n",
        "arq1 = open('/content/drive/MyDrive/Colab Notebooks/DataScienceAcademy/DSA_Cap04/Arquivo.txt', 'r', encoding='ISO-8859-1')"
      ]
    },
    {
      "cell_type": "code",
      "source": [
        "# Lendo o arquivo\n",
        "print(arq1.read())"
      ],
      "metadata": {
        "id": "bD5UDPsgL_Jh",
        "colab": {
          "base_uri": "https://localhost:8080/"
        },
        "outputId": "01a29302-7b27-41d8-89eb-89dd1516ac25"
      },
      "execution_count": 12,
      "outputs": [
        {
          "output_type": "stream",
          "name": "stdout",
          "text": [
            "Python é uma linguagem poderosa\n"
          ]
        }
      ]
    },
    {
      "cell_type": "code",
      "source": [
        ""
      ],
      "metadata": {
        "id": "qey-EfOZMRmP"
      },
      "execution_count": null,
      "outputs": []
    }
  ]
}