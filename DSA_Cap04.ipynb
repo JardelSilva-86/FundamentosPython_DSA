{
  "nbformat": 4,
  "nbformat_minor": 0,
  "metadata": {
    "colab": {
      "name": "DSA_Cap04.ipynb",
      "provenance": [],
      "collapsed_sections": [
        "AreRyPkRIJDS"
      ],
      "mount_file_id": "1Bq7-I-IeCozwu_jpQ1UpgYmj2_1xUQry",
      "authorship_tag": "ABX9TyOdb8qWplG/g4qHznbPfQ1/",
      "include_colab_link": true
    },
    "kernelspec": {
      "name": "python3",
      "display_name": "Python 3"
    },
    "language_info": {
      "name": "python"
    }
  },
  "cells": [
    {
      "cell_type": "markdown",
      "metadata": {
        "id": "view-in-github",
        "colab_type": "text"
      },
      "source": [
        "<a href=\"https://colab.research.google.com/github/JardelSilva-86/FundamentosPython_DSA/blob/main/DSA_Cap04.ipynb\" target=\"_parent\"><img src=\"https://colab.research.google.com/assets/colab-badge.svg\" alt=\"Open In Colab\"/></a>"
      ]
    },
    {
      "cell_type": "markdown",
      "source": [
        "# Lendo arquivos"
      ],
      "metadata": {
        "id": "CihBp0mYIFET"
      }
    },
    {
      "cell_type": "code",
      "execution_count": 11,
      "metadata": {
        "id": "cvMgBUFGHYqU"
      },
      "outputs": [],
      "source": [
        "# Abrindo o arquivo para leitura\n",
        "arq1 = open('/content/drive/MyDrive/Colab Notebooks/DataScienceAcademy/DSA_Cap04/Arquivo.txt', 'r', encoding='ISO-8859-1')"
      ]
    },
    {
      "cell_type": "code",
      "source": [
        "# Lendo o arquivo\n",
        "print(arq1.read())"
      ],
      "metadata": {
        "id": "bD5UDPsgL_Jh",
        "colab": {
          "base_uri": "https://localhost:8080/"
        },
        "outputId": "01a29302-7b27-41d8-89eb-89dd1516ac25"
      },
      "execution_count": 12,
      "outputs": [
        {
          "output_type": "stream",
          "name": "stdout",
          "text": [
            "Python é uma linguagem poderosa\n"
          ]
        }
      ]
    },
    {
      "cell_type": "code",
      "source": [
        "# Contar o número de caracteres\n",
        "print(arq1.tell())"
      ],
      "metadata": {
        "id": "qey-EfOZMRmP",
        "colab": {
          "base_uri": "https://localhost:8080/"
        },
        "outputId": "3161fe60-ab17-497d-91e4-3412302444a7"
      },
      "execution_count": 13,
      "outputs": [
        {
          "output_type": "stream",
          "name": "stdout",
          "text": [
            "31\n"
          ]
        }
      ]
    },
    {
      "cell_type": "code",
      "source": [
        "# Retornar para o ínicio do arquivo\n",
        "print(arq1.seek(0, 0)) # 0,0 - Significa, 1ª linha e 1ª coluna do arquivo"
      ],
      "metadata": {
        "colab": {
          "base_uri": "https://localhost:8080/"
        },
        "id": "phAfrMfQHLod",
        "outputId": "eb86ff60-1e67-44b2-dde5-8b95a98e7d07"
      },
      "execution_count": 23,
      "outputs": [
        {
          "output_type": "stream",
          "name": "stdout",
          "text": [
            "0\n"
          ]
        }
      ]
    },
    {
      "cell_type": "code",
      "source": [
        "# Ler os primeiros 10 caracteres\n",
        "print(arq1.read(9))"
      ],
      "metadata": {
        "colab": {
          "base_uri": "https://localhost:8080/"
        },
        "id": "ZUItgkyRHg0r",
        "outputId": "49ae5a1f-2340-4b08-e30f-90371e381ad7"
      },
      "execution_count": 24,
      "outputs": [
        {
          "output_type": "stream",
          "name": "stdout",
          "text": [
            "Python é \n"
          ]
        }
      ]
    },
    {
      "cell_type": "markdown",
      "source": [
        "# Gravando arquivos"
      ],
      "metadata": {
        "id": "AreRyPkRIJDS"
      }
    },
    {
      "cell_type": "code",
      "source": [
        "# Abrindo o arquivo para escrita/gravação\n",
        "arq2 = open('/content/drive/MyDrive/Colab Notebooks/DataScienceAcademy/DSA_Cap04/Arquivo.txt', 'w', encoding='ISO-8859-1')"
      ],
      "metadata": {
        "id": "IqYzUlLfHp_u"
      },
      "execution_count": 25,
      "outputs": []
    },
    {
      "cell_type": "code",
      "source": [
        "# Como abrímos o arquivo para escreta/gravação, não podemos usar comando de leitura\n",
        "print(arq2.read())"
      ],
      "metadata": {
        "colab": {
          "base_uri": "https://localhost:8080/",
          "height": 200
        },
        "id": "u9ZdKXA9Pwrx",
        "outputId": "9d86ae63-2187-4777-970f-860d859ce2e0"
      },
      "execution_count": 26,
      "outputs": [
        {
          "output_type": "error",
          "ename": "UnsupportedOperation",
          "evalue": "ignored",
          "traceback": [
            "\u001b[0;31m---------------------------------------------------------------------------\u001b[0m",
            "\u001b[0;31mUnsupportedOperation\u001b[0m                      Traceback (most recent call last)",
            "\u001b[0;32m<ipython-input-26-b658981f7af1>\u001b[0m in \u001b[0;36m<module>\u001b[0;34m()\u001b[0m\n\u001b[1;32m      1\u001b[0m \u001b[0;31m# Como abrímos o arquivo para escreta/gravação, não podemos usar comando de leitura\u001b[0m\u001b[0;34m\u001b[0m\u001b[0;34m\u001b[0m\u001b[0;34m\u001b[0m\u001b[0m\n\u001b[0;32m----> 2\u001b[0;31m \u001b[0mprint\u001b[0m\u001b[0;34m(\u001b[0m\u001b[0marq2\u001b[0m\u001b[0;34m.\u001b[0m\u001b[0mread\u001b[0m\u001b[0;34m(\u001b[0m\u001b[0;34m)\u001b[0m\u001b[0;34m)\u001b[0m\u001b[0;34m\u001b[0m\u001b[0;34m\u001b[0m\u001b[0m\n\u001b[0m",
            "\u001b[0;31mUnsupportedOperation\u001b[0m: not readable"
          ]
        }
      ]
    },
    {
      "cell_type": "code",
      "source": [
        "# Gravando arquivo\n",
        "arq2.write('Testando gravação de arquivos em Python.')"
      ],
      "metadata": {
        "colab": {
          "base_uri": "https://localhost:8080/"
        },
        "id": "iGQV4b4RQBKL",
        "outputId": "fa5e9378-f6a9-45b8-aea4-90c1231c4b87"
      },
      "execution_count": 27,
      "outputs": [
        {
          "output_type": "execute_result",
          "data": {
            "text/plain": [
              "40"
            ]
          },
          "metadata": {},
          "execution_count": 27
        }
      ]
    },
    {
      "cell_type": "code",
      "source": [
        "arq2.close()"
      ],
      "metadata": {
        "id": "HK4lUv9FQOj-"
      },
      "execution_count": 28,
      "outputs": []
    },
    {
      "cell_type": "code",
      "source": [
        "# Lendo o arquivo modificado\n",
        "arq2 = open('/content/drive/MyDrive/Colab Notebooks/DataScienceAcademy/DSA_Cap04/Arquivo.txt', 'r', encoding='ISO-8859-1')"
      ],
      "metadata": {
        "id": "a7t5aQNxQUWn"
      },
      "execution_count": 29,
      "outputs": []
    },
    {
      "cell_type": "code",
      "source": [
        "print(arq2.read())"
      ],
      "metadata": {
        "colab": {
          "base_uri": "https://localhost:8080/"
        },
        "id": "PhPE_QVXQeCN",
        "outputId": "c95d1de0-18b5-4e7c-f07a-f9d0fa059fc1"
      },
      "execution_count": 30,
      "outputs": [
        {
          "output_type": "stream",
          "name": "stdout",
          "text": [
            "Testando gravação de arquivos em Python.\n"
          ]
        }
      ]
    },
    {
      "cell_type": "code",
      "source": [
        "# Acrescentando conteúdo\n",
        "arq2 = open('/content/drive/MyDrive/Colab Notebooks/DataScienceAcademy/DSA_Cap04/Arquivo.txt', 'a', encoding='ISO-8859-1')"
      ],
      "metadata": {
        "id": "OhOk70NqQiel"
      },
      "execution_count": 31,
      "outputs": []
    },
    {
      "cell_type": "code",
      "source": [
        "arq2.write(' e agora acrescentando palavras na frase.')"
      ],
      "metadata": {
        "colab": {
          "base_uri": "https://localhost:8080/"
        },
        "id": "B6i3jyp9Whoe",
        "outputId": "72789da6-0f29-47e3-9bf3-ccfbce7c372c"
      },
      "execution_count": 32,
      "outputs": [
        {
          "output_type": "execute_result",
          "data": {
            "text/plain": [
              "41"
            ]
          },
          "metadata": {},
          "execution_count": 32
        }
      ]
    },
    {
      "cell_type": "code",
      "source": [
        "arq2.close()"
      ],
      "metadata": {
        "id": "OQYzIuSNWtOl"
      },
      "execution_count": 33,
      "outputs": []
    },
    {
      "cell_type": "code",
      "source": [
        "arq2 = open('/content/drive/MyDrive/Colab Notebooks/DataScienceAcademy/DSA_Cap04/Arquivo.txt', 'r', encoding='ISO-8859-1')"
      ],
      "metadata": {
        "id": "jZwpME9WWvcR"
      },
      "execution_count": 34,
      "outputs": []
    },
    {
      "cell_type": "code",
      "source": [
        "arq2.read()"
      ],
      "metadata": {
        "colab": {
          "base_uri": "https://localhost:8080/",
          "height": 53
        },
        "id": "7dyxxeD6W1wj",
        "outputId": "9b23c2c2-98cc-4146-98cb-0f3869b57ee7"
      },
      "execution_count": 35,
      "outputs": [
        {
          "output_type": "execute_result",
          "data": {
            "text/plain": [
              "'Testando gravação de arquivos em Python. e agora acrescentando palavras na frase.'"
            ],
            "application/vnd.google.colaboratory.intrinsic+json": {
              "type": "string"
            }
          },
          "metadata": {},
          "execution_count": 35
        }
      ]
    },
    {
      "cell_type": "markdown",
      "source": [
        "# Automatizando o processo e gravação"
      ],
      "metadata": {
        "id": "rKyTlQdweEVs"
      }
    },
    {
      "cell_type": "code",
      "source": [
        "fileName = input('Digite o nome do arquivo: ')"
      ],
      "metadata": {
        "colab": {
          "base_uri": "https://localhost:8080/"
        },
        "id": "zD9uB2KLW4zU",
        "outputId": "e69d2c6e-91d8-42a8-cb6f-40fc9b917c4a"
      },
      "execution_count": 37,
      "outputs": [
        {
          "name": "stdout",
          "output_type": "stream",
          "text": [
            "Digite o nome do arquivo: Teste\n"
          ]
        }
      ]
    },
    {
      "cell_type": "code",
      "source": [
        "fileName = fileName + '.txt'"
      ],
      "metadata": {
        "id": "gsfQzIBieRu6"
      },
      "execution_count": 38,
      "outputs": []
    },
    {
      "cell_type": "code",
      "source": [
        "arq3 = open(fileName, 'w')"
      ],
      "metadata": {
        "id": "4HYTvYK7enlY"
      },
      "execution_count": 39,
      "outputs": []
    },
    {
      "cell_type": "code",
      "source": [
        "arq3.write('Incluindo conteúdo no arquivo criado')"
      ],
      "metadata": {
        "colab": {
          "base_uri": "https://localhost:8080/"
        },
        "id": "mzgy0Fs0e1fo",
        "outputId": "2219203e-b444-4b9a-c947-ce379b83df36"
      },
      "execution_count": 40,
      "outputs": [
        {
          "output_type": "execute_result",
          "data": {
            "text/plain": [
              "36"
            ]
          },
          "metadata": {},
          "execution_count": 40
        }
      ]
    },
    {
      "cell_type": "code",
      "source": [
        "arq3.close()"
      ],
      "metadata": {
        "id": "44Akv4Mie9Tm"
      },
      "execution_count": 41,
      "outputs": []
    },
    {
      "cell_type": "code",
      "source": [
        "arq3 = open(fileName, 'r')"
      ],
      "metadata": {
        "id": "VS3CWJije_xm"
      },
      "execution_count": 42,
      "outputs": []
    },
    {
      "cell_type": "code",
      "source": [
        "print(arq3.read())"
      ],
      "metadata": {
        "colab": {
          "base_uri": "https://localhost:8080/"
        },
        "id": "vCPBZkD1fFAN",
        "outputId": "e9ea9a4b-a858-4166-f0b8-643830470de7"
      },
      "execution_count": 43,
      "outputs": [
        {
          "output_type": "stream",
          "name": "stdout",
          "text": [
            "Incluindo conteúdo no arquivo criado\n"
          ]
        }
      ]
    },
    {
      "cell_type": "code",
      "source": [
        "arq3.close()"
      ],
      "metadata": {
        "id": "EhSYve8ifICt"
      },
      "execution_count": 44,
      "outputs": []
    },
    {
      "cell_type": "markdown",
      "source": [
        "# Abrindo o dataset em uma única linha"
      ],
      "metadata": {
        "id": "X56KVrjlvfN0"
      }
    },
    {
      "cell_type": "markdown",
      "source": [
        "Fazer o download do arquivos salarios.csv\n",
        "dataset retirado do site\n",
        "https://data.cityofchicago.org/"
      ],
      "metadata": {
        "id": "QYjN4GRdvjtB"
      }
    },
    {
      "cell_type": "code",
      "source": [
        "f = open('/content/drive/MyDrive/Colab Notebooks/DataScienceAcademy/DSA_Cap04/Salarios.csv', 'r')"
      ],
      "metadata": {
        "id": "-uSa_BogfM0E"
      },
      "execution_count": 45,
      "outputs": []
    },
    {
      "cell_type": "code",
      "source": [
        "data = f.read()"
      ],
      "metadata": {
        "id": "4yoX1Bu4hkfP"
      },
      "execution_count": 46,
      "outputs": []
    },
    {
      "cell_type": "code",
      "source": [
        "rows = data.split('\\n')"
      ],
      "metadata": {
        "id": "TjmlCioThna-"
      },
      "execution_count": 47,
      "outputs": []
    },
    {
      "cell_type": "code",
      "source": [
        "print(rows)"
      ],
      "metadata": {
        "id": "Vj_gDhcDhuYO"
      },
      "execution_count": null,
      "outputs": []
    },
    {
      "cell_type": "markdown",
      "source": [
        "# Dividindo um dataset em colunas"
      ],
      "metadata": {
        "id": "MCOCjQ44v1tM"
      }
    },
    {
      "cell_type": "code",
      "source": [
        "f = open('/content/drive/MyDrive/Colab Notebooks/DataScienceAcademy/DSA_Cap04/Salarios.csv', 'r')"
      ],
      "metadata": {
        "id": "ALEfbiS8hwVA"
      },
      "execution_count": 54,
      "outputs": []
    },
    {
      "cell_type": "code",
      "source": [
        "data = f.read()"
      ],
      "metadata": {
        "id": "UB4YGcUQv9ub"
      },
      "execution_count": 55,
      "outputs": []
    },
    {
      "cell_type": "code",
      "source": [
        "rows = data.split('\\n')"
      ],
      "metadata": {
        "id": "222PSkSJwB-w"
      },
      "execution_count": 56,
      "outputs": []
    },
    {
      "cell_type": "code",
      "source": [
        "full_data = []"
      ],
      "metadata": {
        "id": "cWPeNS69wGiD"
      },
      "execution_count": 57,
      "outputs": []
    },
    {
      "cell_type": "code",
      "source": [
        "for row in rows:\n",
        "    split_row = row.split(\",\")\n",
        "    full_data.append(split_row)\n",
        "\n",
        "print(full_data)"
      ],
      "metadata": {
        "id": "6_tZHaSgwK65"
      },
      "execution_count": null,
      "outputs": []
    },
    {
      "cell_type": "markdown",
      "source": [
        "# Contando as linhas de um arquivo"
      ],
      "metadata": {
        "id": "4WC8mcG14hxe"
      }
    },
    {
      "cell_type": "code",
      "source": [
        "f = open('/content/drive/MyDrive/Colab Notebooks/DataScienceAcademy/DSA_Cap04/Salarios.csv', 'r')"
      ],
      "metadata": {
        "id": "InWmjP0_w-UG"
      },
      "execution_count": 59,
      "outputs": []
    },
    {
      "cell_type": "code",
      "source": [
        "data = f.read()"
      ],
      "metadata": {
        "id": "ZbUU99Gt4pID"
      },
      "execution_count": 60,
      "outputs": []
    },
    {
      "cell_type": "code",
      "source": [
        "rows = data.split('\\n')"
      ],
      "metadata": {
        "id": "mZ1teDfN4xNy"
      },
      "execution_count": 61,
      "outputs": []
    },
    {
      "cell_type": "code",
      "source": [
        "full_data = []\n",
        "\n",
        "for row in rows:\n",
        "    split_row = row.split(\",\")\n",
        "    full_data.append(split_row)"
      ],
      "metadata": {
        "id": "Tr5bhRjL41zY"
      },
      "execution_count": 62,
      "outputs": []
    },
    {
      "cell_type": "code",
      "source": [
        "count = 0\n",
        "for row in full_data:\n",
        "    count += 1 "
      ],
      "metadata": {
        "id": "uwY30pCb5Eoc"
      },
      "execution_count": 63,
      "outputs": []
    },
    {
      "cell_type": "code",
      "source": [
        "print(count)"
      ],
      "metadata": {
        "colab": {
          "base_uri": "https://localhost:8080/"
        },
        "id": "hOiKmD9m5PAj",
        "outputId": "da9c9d36-7bc7-417f-866c-eb6ad9dbc233"
      },
      "execution_count": 64,
      "outputs": [
        {
          "output_type": "stream",
          "name": "stdout",
          "text": [
            "32184\n"
          ]
        }
      ]
    },
    {
      "cell_type": "markdown",
      "source": [
        "# Contando o número de colunas de um arquivo"
      ],
      "metadata": {
        "id": "vnr72pOg5jqG"
      }
    },
    {
      "cell_type": "code",
      "source": [
        "f = open('/content/drive/MyDrive/Colab Notebooks/DataScienceAcademy/DSA_Cap04/Salarios.csv', 'r')\n",
        "data = f.read()\n",
        "rows = data.split('\\n')\n",
        "full_data = []"
      ],
      "metadata": {
        "id": "_sXxOloP5Qwd"
      },
      "execution_count": 69,
      "outputs": []
    },
    {
      "cell_type": "code",
      "source": [
        "for row in rows:\n",
        "    split_row = row.split(\",\")\n",
        "    full_data.append(split_row)\n",
        "    first_row = full_data[0]\n",
        "count = 0"
      ],
      "metadata": {
        "id": "uhxCsUGe52vT"
      },
      "execution_count": 70,
      "outputs": []
    },
    {
      "cell_type": "code",
      "source": [
        "for colunm in first_row:\n",
        "    count += 1\n",
        "\n",
        "print(count)"
      ],
      "metadata": {
        "colab": {
          "base_uri": "https://localhost:8080/"
        },
        "id": "29PaB0o967BH",
        "outputId": "2bd214dc-42c3-4e5b-d45f-4eb036c2c72a"
      },
      "execution_count": 71,
      "outputs": [
        {
          "output_type": "stream",
          "name": "stdout",
          "text": [
            "4\n"
          ]
        }
      ]
    },
    {
      "cell_type": "markdown",
      "source": [
        "# Gravando arquivo pelo Jupyter Notebook"
      ],
      "metadata": {
        "id": "hU4cKXi2_oJQ"
      }
    },
    {
      "cell_type": "code",
      "source": [
        "%%writefile /content/drive/MyDrive/Colab_Notebooks/DataScienceAcademy/DSA_Cap04/teste.txt\n",
        "Olá, este arquivo foi criado pelo próprio Jupyter Notebook.\n",
        "Podemos gerar quantas linhas quisermos e o Jupyter gera o arquivo final"
      ],
      "metadata": {
        "colab": {
          "base_uri": "https://localhost:8080/"
        },
        "id": "leCH5uaK7BXj",
        "outputId": "73540991-9163-46eb-8555-9a8ada9d4bc5"
      },
      "execution_count": 78,
      "outputs": [
        {
          "output_type": "stream",
          "name": "stdout",
          "text": [
            "Overwriting /content/drive/MyDrive/Colab_Notebooks/DataScienceAcademy/DSA_Cap04/teste.txt\n"
          ]
        }
      ]
    },
    {
      "cell_type": "code",
      "source": [
        "arq4 = open('/content/drive/MyDrive/Colab_Notebooks/DataScienceAcademy/DSA_Cap04/teste.txt', 'r')"
      ],
      "metadata": {
        "id": "xDohTuMoBuG3"
      },
      "execution_count": 79,
      "outputs": []
    },
    {
      "cell_type": "code",
      "source": [
        "arq4.read()"
      ],
      "metadata": {
        "colab": {
          "base_uri": "https://localhost:8080/",
          "height": 35
        },
        "id": "kqFPkjqrDLmt",
        "outputId": "01aaa6a5-0fa3-450e-e6f3-1093b808cd3f"
      },
      "execution_count": 80,
      "outputs": [
        {
          "output_type": "execute_result",
          "data": {
            "text/plain": [
              "'Olá, este arquivo foi criado pelo próprio Jupyter Notebook.\\nPodemos gerar quantas linhas quisermos e o Jupyter gera o arquivo final'"
            ],
            "application/vnd.google.colaboratory.intrinsic+json": {
              "type": "string"
            }
          },
          "metadata": {},
          "execution_count": 80
        }
      ]
    },
    {
      "cell_type": "code",
      "source": [
        "# Estamos no final do arquivo e não há mais nada para ler\n",
        "arq4.read()"
      ],
      "metadata": {
        "colab": {
          "base_uri": "https://localhost:8080/",
          "height": 35
        },
        "id": "URg8yRMiDOiW",
        "outputId": "925f24d4-c423-40f5-d8b6-d41a6e52272c"
      },
      "execution_count": 81,
      "outputs": [
        {
          "output_type": "execute_result",
          "data": {
            "text/plain": [
              "''"
            ],
            "application/vnd.google.colaboratory.intrinsic+json": {
              "type": "string"
            }
          },
          "metadata": {},
          "execution_count": 81
        }
      ]
    },
    {
      "cell_type": "code",
      "source": [
        "# Retornando ao início do arquivo\n",
        "arq4.seek(0)"
      ],
      "metadata": {
        "colab": {
          "base_uri": "https://localhost:8080/"
        },
        "id": "NjQbfZaoDi8X",
        "outputId": "5fba5fb9-d92f-4386-ff26-f66e64f2e42b"
      },
      "execution_count": 82,
      "outputs": [
        {
          "output_type": "execute_result",
          "data": {
            "text/plain": [
              "0"
            ]
          },
          "metadata": {},
          "execution_count": 82
        }
      ]
    },
    {
      "cell_type": "code",
      "source": [
        "arq4.seek(0)\n",
        "arq4.readlines()"
      ],
      "metadata": {
        "colab": {
          "base_uri": "https://localhost:8080/"
        },
        "id": "8tBdwBZTDtk6",
        "outputId": "e197e48d-961b-4121-fc4c-e4ef13e04f43"
      },
      "execution_count": 83,
      "outputs": [
        {
          "output_type": "execute_result",
          "data": {
            "text/plain": [
              "['Olá, este arquivo foi criado pelo próprio Jupyter Notebook.\\n',\n",
              " 'Podemos gerar quantas linhas quisermos e o Jupyter gera o arquivo final']"
            ]
          },
          "metadata": {},
          "execution_count": 83
        }
      ]
    },
    {
      "cell_type": "code",
      "source": [
        "# Podemos usar um loop for para ler o arquivo\n",
        "for line in open('/content/drive/MyDrive/Colab_Notebooks/DataScienceAcademy/DSA_Cap04/teste.txt'):\n",
        "    print(line)"
      ],
      "metadata": {
        "colab": {
          "base_uri": "https://localhost:8080/"
        },
        "id": "pLlRuTB_D0fZ",
        "outputId": "a556887b-ea53-4792-e0bc-8ff44af64109"
      },
      "execution_count": 84,
      "outputs": [
        {
          "output_type": "stream",
          "name": "stdout",
          "text": [
            "Olá, este arquivo foi criado pelo próprio Jupyter Notebook.\n",
            "\n",
            "Podemos gerar quantas linhas quisermos e o Jupyter gera o arquivo final\n"
          ]
        }
      ]
    },
    {
      "cell_type": "markdown",
      "source": [
        "# Importando um dataset com o Pandas"
      ],
      "metadata": {
        "id": "eouYnE44E1Zq"
      }
    },
    {
      "cell_type": "code",
      "source": [
        "import pandas as pd"
      ],
      "metadata": {
        "id": "k6RiSJZGEJ16"
      },
      "execution_count": 85,
      "outputs": []
    },
    {
      "cell_type": "code",
      "source": [
        "%%writefile /content/drive/MyDrive/Colab_Notebooks/DataScienceAcademy/DSA_Cap04/binary.csv\n",
        "admit,gre,gpa,rank\n",
        "0,380,3.61,3\n",
        "1,660,3.67,3\n",
        "1,880,4.00,1\n",
        "1,640,3.19,4\n",
        "0,520,2.93,4"
      ],
      "metadata": {
        "colab": {
          "base_uri": "https://localhost:8080/"
        },
        "id": "0xgqA5aAFRkf",
        "outputId": "0ada77d3-71d5-40bb-86f5-60f77c805264"
      },
      "execution_count": 86,
      "outputs": [
        {
          "output_type": "stream",
          "name": "stdout",
          "text": [
            "Writing /content/drive/MyDrive/Colab_Notebooks/DataScienceAcademy/DSA_Cap04/binary.csv\n"
          ]
        }
      ]
    },
    {
      "cell_type": "code",
      "source": [
        "file_name = '/content/drive/MyDrive/Colab_Notebooks/DataScienceAcademy/DSA_Cap04/binary.csv'"
      ],
      "metadata": {
        "id": "vWFqI3F7FiMp"
      },
      "execution_count": 87,
      "outputs": []
    },
    {
      "cell_type": "code",
      "source": [
        "df = pd.read_csv(file_name)\n",
        "df.head()"
      ],
      "metadata": {
        "colab": {
          "base_uri": "https://localhost:8080/",
          "height": 206
        },
        "id": "bY1XTZuGG9Zb",
        "outputId": "24e0eb58-3864-4a1d-8da6-0e1c0bad74fb"
      },
      "execution_count": 89,
      "outputs": [
        {
          "output_type": "execute_result",
          "data": {
            "text/plain": [
              "   admit  gre   gpa  rank\n",
              "0      0  380  3.61     3\n",
              "1      1  660  3.67     3\n",
              "2      1  880  4.00     1\n",
              "3      1  640  3.19     4\n",
              "4      0  520  2.93     4"
            ],
            "text/html": [
              "\n",
              "  <div id=\"df-459a6bed-8f5e-4e45-9a47-0925d9bd2fcb\">\n",
              "    <div class=\"colab-df-container\">\n",
              "      <div>\n",
              "<style scoped>\n",
              "    .dataframe tbody tr th:only-of-type {\n",
              "        vertical-align: middle;\n",
              "    }\n",
              "\n",
              "    .dataframe tbody tr th {\n",
              "        vertical-align: top;\n",
              "    }\n",
              "\n",
              "    .dataframe thead th {\n",
              "        text-align: right;\n",
              "    }\n",
              "</style>\n",
              "<table border=\"1\" class=\"dataframe\">\n",
              "  <thead>\n",
              "    <tr style=\"text-align: right;\">\n",
              "      <th></th>\n",
              "      <th>admit</th>\n",
              "      <th>gre</th>\n",
              "      <th>gpa</th>\n",
              "      <th>rank</th>\n",
              "    </tr>\n",
              "  </thead>\n",
              "  <tbody>\n",
              "    <tr>\n",
              "      <th>0</th>\n",
              "      <td>0</td>\n",
              "      <td>380</td>\n",
              "      <td>3.61</td>\n",
              "      <td>3</td>\n",
              "    </tr>\n",
              "    <tr>\n",
              "      <th>1</th>\n",
              "      <td>1</td>\n",
              "      <td>660</td>\n",
              "      <td>3.67</td>\n",
              "      <td>3</td>\n",
              "    </tr>\n",
              "    <tr>\n",
              "      <th>2</th>\n",
              "      <td>1</td>\n",
              "      <td>880</td>\n",
              "      <td>4.00</td>\n",
              "      <td>1</td>\n",
              "    </tr>\n",
              "    <tr>\n",
              "      <th>3</th>\n",
              "      <td>1</td>\n",
              "      <td>640</td>\n",
              "      <td>3.19</td>\n",
              "      <td>4</td>\n",
              "    </tr>\n",
              "    <tr>\n",
              "      <th>4</th>\n",
              "      <td>0</td>\n",
              "      <td>520</td>\n",
              "      <td>2.93</td>\n",
              "      <td>4</td>\n",
              "    </tr>\n",
              "  </tbody>\n",
              "</table>\n",
              "</div>\n",
              "      <button class=\"colab-df-convert\" onclick=\"convertToInteractive('df-459a6bed-8f5e-4e45-9a47-0925d9bd2fcb')\"\n",
              "              title=\"Convert this dataframe to an interactive table.\"\n",
              "              style=\"display:none;\">\n",
              "        \n",
              "  <svg xmlns=\"http://www.w3.org/2000/svg\" height=\"24px\"viewBox=\"0 0 24 24\"\n",
              "       width=\"24px\">\n",
              "    <path d=\"M0 0h24v24H0V0z\" fill=\"none\"/>\n",
              "    <path d=\"M18.56 5.44l.94 2.06.94-2.06 2.06-.94-2.06-.94-.94-2.06-.94 2.06-2.06.94zm-11 1L8.5 8.5l.94-2.06 2.06-.94-2.06-.94L8.5 2.5l-.94 2.06-2.06.94zm10 10l.94 2.06.94-2.06 2.06-.94-2.06-.94-.94-2.06-.94 2.06-2.06.94z\"/><path d=\"M17.41 7.96l-1.37-1.37c-.4-.4-.92-.59-1.43-.59-.52 0-1.04.2-1.43.59L10.3 9.45l-7.72 7.72c-.78.78-.78 2.05 0 2.83L4 21.41c.39.39.9.59 1.41.59.51 0 1.02-.2 1.41-.59l7.78-7.78 2.81-2.81c.8-.78.8-2.07 0-2.86zM5.41 20L4 18.59l7.72-7.72 1.47 1.35L5.41 20z\"/>\n",
              "  </svg>\n",
              "      </button>\n",
              "      \n",
              "  <style>\n",
              "    .colab-df-container {\n",
              "      display:flex;\n",
              "      flex-wrap:wrap;\n",
              "      gap: 12px;\n",
              "    }\n",
              "\n",
              "    .colab-df-convert {\n",
              "      background-color: #E8F0FE;\n",
              "      border: none;\n",
              "      border-radius: 50%;\n",
              "      cursor: pointer;\n",
              "      display: none;\n",
              "      fill: #1967D2;\n",
              "      height: 32px;\n",
              "      padding: 0 0 0 0;\n",
              "      width: 32px;\n",
              "    }\n",
              "\n",
              "    .colab-df-convert:hover {\n",
              "      background-color: #E2EBFA;\n",
              "      box-shadow: 0px 1px 2px rgba(60, 64, 67, 0.3), 0px 1px 3px 1px rgba(60, 64, 67, 0.15);\n",
              "      fill: #174EA6;\n",
              "    }\n",
              "\n",
              "    [theme=dark] .colab-df-convert {\n",
              "      background-color: #3B4455;\n",
              "      fill: #D2E3FC;\n",
              "    }\n",
              "\n",
              "    [theme=dark] .colab-df-convert:hover {\n",
              "      background-color: #434B5C;\n",
              "      box-shadow: 0px 1px 3px 1px rgba(0, 0, 0, 0.15);\n",
              "      filter: drop-shadow(0px 1px 2px rgba(0, 0, 0, 0.3));\n",
              "      fill: #FFFFFF;\n",
              "    }\n",
              "  </style>\n",
              "\n",
              "      <script>\n",
              "        const buttonEl =\n",
              "          document.querySelector('#df-459a6bed-8f5e-4e45-9a47-0925d9bd2fcb button.colab-df-convert');\n",
              "        buttonEl.style.display =\n",
              "          google.colab.kernel.accessAllowed ? 'block' : 'none';\n",
              "\n",
              "        async function convertToInteractive(key) {\n",
              "          const element = document.querySelector('#df-459a6bed-8f5e-4e45-9a47-0925d9bd2fcb');\n",
              "          const dataTable =\n",
              "            await google.colab.kernel.invokeFunction('convertToInteractive',\n",
              "                                                     [key], {});\n",
              "          if (!dataTable) return;\n",
              "\n",
              "          const docLinkHtml = 'Like what you see? Visit the ' +\n",
              "            '<a target=\"_blank\" href=https://colab.research.google.com/notebooks/data_table.ipynb>data table notebook</a>'\n",
              "            + ' to learn more about interactive tables.';\n",
              "          element.innerHTML = '';\n",
              "          dataTable['output_type'] = 'display_data';\n",
              "          await google.colab.output.renderOutput(dataTable, element);\n",
              "          const docLink = document.createElement('div');\n",
              "          docLink.innerHTML = docLinkHtml;\n",
              "          element.appendChild(docLink);\n",
              "        }\n",
              "      </script>\n",
              "    </div>\n",
              "  </div>\n",
              "  "
            ]
          },
          "metadata": {},
          "execution_count": 89
        }
      ]
    },
    {
      "cell_type": "code",
      "source": [
        "file2 = '/content/drive/MyDrive/Colab_Notebooks/DataScienceAcademy/DSA_Cap04/Salarios.csv'"
      ],
      "metadata": {
        "id": "46k_OQPmHC2d"
      },
      "execution_count": 90,
      "outputs": []
    },
    {
      "cell_type": "code",
      "source": [
        "df2 = pd.read_csv(file2, sep=\",\" )\n",
        "df2.head()"
      ],
      "metadata": {
        "colab": {
          "base_uri": "https://localhost:8080/",
          "height": 206
        },
        "id": "UD56UfwAHY89",
        "outputId": "86491799-c372-4d54-9841-692c520ba39a"
      },
      "execution_count": 101,
      "outputs": [
        {
          "output_type": "execute_result",
          "data": {
            "text/plain": [
              "                                                Name  Position Title  \\\n",
              "0  \"AARON,  ELVIA J\",WATER RATE TAKER,WATER MGMNT...             NaN   \n",
              "1  \"AARON,  JEFFERY M\",POLICE OFFICER,POLICE,$807...             NaN   \n",
              "2   \"AARON,  KARINA\",POLICE OFFICER,POLICE,$80778.00             NaN   \n",
              "3  \"AARON,  KIMBERLEI R\",CHIEF CONTRACT EXPEDITER...             NaN   \n",
              "4  \"ABAD JR,  VICENTE M\",CIVIL ENGINEER IV,WATER ...             NaN   \n",
              "\n",
              "   Department  Employee Annual Salary  \n",
              "0         NaN                     NaN  \n",
              "1         NaN                     NaN  \n",
              "2         NaN                     NaN  \n",
              "3         NaN                     NaN  \n",
              "4         NaN                     NaN  "
            ],
            "text/html": [
              "\n",
              "  <div id=\"df-2396c5df-04f3-40b9-b120-38c9dfe0f840\">\n",
              "    <div class=\"colab-df-container\">\n",
              "      <div>\n",
              "<style scoped>\n",
              "    .dataframe tbody tr th:only-of-type {\n",
              "        vertical-align: middle;\n",
              "    }\n",
              "\n",
              "    .dataframe tbody tr th {\n",
              "        vertical-align: top;\n",
              "    }\n",
              "\n",
              "    .dataframe thead th {\n",
              "        text-align: right;\n",
              "    }\n",
              "</style>\n",
              "<table border=\"1\" class=\"dataframe\">\n",
              "  <thead>\n",
              "    <tr style=\"text-align: right;\">\n",
              "      <th></th>\n",
              "      <th>Name</th>\n",
              "      <th>Position Title</th>\n",
              "      <th>Department</th>\n",
              "      <th>Employee Annual Salary</th>\n",
              "    </tr>\n",
              "  </thead>\n",
              "  <tbody>\n",
              "    <tr>\n",
              "      <th>0</th>\n",
              "      <td>\"AARON,  ELVIA J\",WATER RATE TAKER,WATER MGMNT...</td>\n",
              "      <td>NaN</td>\n",
              "      <td>NaN</td>\n",
              "      <td>NaN</td>\n",
              "    </tr>\n",
              "    <tr>\n",
              "      <th>1</th>\n",
              "      <td>\"AARON,  JEFFERY M\",POLICE OFFICER,POLICE,$807...</td>\n",
              "      <td>NaN</td>\n",
              "      <td>NaN</td>\n",
              "      <td>NaN</td>\n",
              "    </tr>\n",
              "    <tr>\n",
              "      <th>2</th>\n",
              "      <td>\"AARON,  KARINA\",POLICE OFFICER,POLICE,$80778.00</td>\n",
              "      <td>NaN</td>\n",
              "      <td>NaN</td>\n",
              "      <td>NaN</td>\n",
              "    </tr>\n",
              "    <tr>\n",
              "      <th>3</th>\n",
              "      <td>\"AARON,  KIMBERLEI R\",CHIEF CONTRACT EXPEDITER...</td>\n",
              "      <td>NaN</td>\n",
              "      <td>NaN</td>\n",
              "      <td>NaN</td>\n",
              "    </tr>\n",
              "    <tr>\n",
              "      <th>4</th>\n",
              "      <td>\"ABAD JR,  VICENTE M\",CIVIL ENGINEER IV,WATER ...</td>\n",
              "      <td>NaN</td>\n",
              "      <td>NaN</td>\n",
              "      <td>NaN</td>\n",
              "    </tr>\n",
              "  </tbody>\n",
              "</table>\n",
              "</div>\n",
              "      <button class=\"colab-df-convert\" onclick=\"convertToInteractive('df-2396c5df-04f3-40b9-b120-38c9dfe0f840')\"\n",
              "              title=\"Convert this dataframe to an interactive table.\"\n",
              "              style=\"display:none;\">\n",
              "        \n",
              "  <svg xmlns=\"http://www.w3.org/2000/svg\" height=\"24px\"viewBox=\"0 0 24 24\"\n",
              "       width=\"24px\">\n",
              "    <path d=\"M0 0h24v24H0V0z\" fill=\"none\"/>\n",
              "    <path d=\"M18.56 5.44l.94 2.06.94-2.06 2.06-.94-2.06-.94-.94-2.06-.94 2.06-2.06.94zm-11 1L8.5 8.5l.94-2.06 2.06-.94-2.06-.94L8.5 2.5l-.94 2.06-2.06.94zm10 10l.94 2.06.94-2.06 2.06-.94-2.06-.94-.94-2.06-.94 2.06-2.06.94z\"/><path d=\"M17.41 7.96l-1.37-1.37c-.4-.4-.92-.59-1.43-.59-.52 0-1.04.2-1.43.59L10.3 9.45l-7.72 7.72c-.78.78-.78 2.05 0 2.83L4 21.41c.39.39.9.59 1.41.59.51 0 1.02-.2 1.41-.59l7.78-7.78 2.81-2.81c.8-.78.8-2.07 0-2.86zM5.41 20L4 18.59l7.72-7.72 1.47 1.35L5.41 20z\"/>\n",
              "  </svg>\n",
              "      </button>\n",
              "      \n",
              "  <style>\n",
              "    .colab-df-container {\n",
              "      display:flex;\n",
              "      flex-wrap:wrap;\n",
              "      gap: 12px;\n",
              "    }\n",
              "\n",
              "    .colab-df-convert {\n",
              "      background-color: #E8F0FE;\n",
              "      border: none;\n",
              "      border-radius: 50%;\n",
              "      cursor: pointer;\n",
              "      display: none;\n",
              "      fill: #1967D2;\n",
              "      height: 32px;\n",
              "      padding: 0 0 0 0;\n",
              "      width: 32px;\n",
              "    }\n",
              "\n",
              "    .colab-df-convert:hover {\n",
              "      background-color: #E2EBFA;\n",
              "      box-shadow: 0px 1px 2px rgba(60, 64, 67, 0.3), 0px 1px 3px 1px rgba(60, 64, 67, 0.15);\n",
              "      fill: #174EA6;\n",
              "    }\n",
              "\n",
              "    [theme=dark] .colab-df-convert {\n",
              "      background-color: #3B4455;\n",
              "      fill: #D2E3FC;\n",
              "    }\n",
              "\n",
              "    [theme=dark] .colab-df-convert:hover {\n",
              "      background-color: #434B5C;\n",
              "      box-shadow: 0px 1px 3px 1px rgba(0, 0, 0, 0.15);\n",
              "      filter: drop-shadow(0px 1px 2px rgba(0, 0, 0, 0.3));\n",
              "      fill: #FFFFFF;\n",
              "    }\n",
              "  </style>\n",
              "\n",
              "      <script>\n",
              "        const buttonEl =\n",
              "          document.querySelector('#df-2396c5df-04f3-40b9-b120-38c9dfe0f840 button.colab-df-convert');\n",
              "        buttonEl.style.display =\n",
              "          google.colab.kernel.accessAllowed ? 'block' : 'none';\n",
              "\n",
              "        async function convertToInteractive(key) {\n",
              "          const element = document.querySelector('#df-2396c5df-04f3-40b9-b120-38c9dfe0f840');\n",
              "          const dataTable =\n",
              "            await google.colab.kernel.invokeFunction('convertToInteractive',\n",
              "                                                     [key], {});\n",
              "          if (!dataTable) return;\n",
              "\n",
              "          const docLinkHtml = 'Like what you see? Visit the ' +\n",
              "            '<a target=\"_blank\" href=https://colab.research.google.com/notebooks/data_table.ipynb>data table notebook</a>'\n",
              "            + ' to learn more about interactive tables.';\n",
              "          element.innerHTML = '';\n",
              "          dataTable['output_type'] = 'display_data';\n",
              "          await google.colab.output.renderOutput(dataTable, element);\n",
              "          const docLink = document.createElement('div');\n",
              "          docLink.innerHTML = docLinkHtml;\n",
              "          element.appendChild(docLink);\n",
              "        }\n",
              "      </script>\n",
              "    </div>\n",
              "  </div>\n",
              "  "
            ]
          },
          "metadata": {},
          "execution_count": 101
        }
      ]
    },
    {
      "cell_type": "code",
      "source": [
        ""
      ],
      "metadata": {
        "id": "1XrDjNB_HdDV"
      },
      "execution_count": null,
      "outputs": []
    }
  ]
}